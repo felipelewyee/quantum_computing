{
 "cells": [
  {
   "cell_type": "markdown",
   "metadata": {
    "id": "IafxybMjKfBO"
   },
   "source": [
    "##### Copyright 2020 Google"
   ]
  },
  {
   "cell_type": "code",
   "execution_count": 1,
   "metadata": {
    "cellView": "form",
    "id": "pc1aHcGvKmHe"
   },
   "outputs": [],
   "source": [
    "#@title Licensed under the Apache License, Version 2.0 (the \"License\");\n",
    "# you may not use this file except in compliance with the License.\n",
    "# You may obtain a copy of the License at\n",
    "#\n",
    "# https://www.apache.org/licenses/LICENSE-2.0\n",
    "#\n",
    "# Unless required by applicable law or agreed to in writing, software\n",
    "# distributed under the License is distributed on an \"AS IS\" BASIS,\n",
    "# WITHOUT WARRANTIES OR CONDITIONS OF ANY KIND, either express or implied.\n",
    "# See the License for the specific language governing permissions and\n",
    "# limitations under the License."
   ]
  },
  {
   "cell_type": "markdown",
   "metadata": {
    "id": "0bcc53bffae2"
   },
   "source": [
    "# Making Molecule Files for HFVQE\n",
    "\n",
    "In this tutorial we describe the process of making the molecular data files necessary to run the HFVQE code.  We focus on how to use the OpenFermion plugin modules to generate molecular files with canonical Hartree-Fock and generate integrals in a given atomic orbital basis set.  We also provide helper functions to run variational Hartree-Fock simulating the experiment and generating initial parameters.\n",
    "\n",
    "This tutorial will follow the code in `recirq/hfvqe/molecular_data/` for constructing `MolecularData` objects and getting atomic orbital integrals.\n",
    "\n",
    "In addition to the standard requirement of ReCirq and its dependencies, this notebook uses OpenFermion-pyscf (and pyscf) to compute some quantities. We install it below if you don't already have it."
   ]
  },
  {
   "cell_type": "markdown",
   "metadata": {
    "id": "FQEYY3gnK51d"
   },
   "source": [
    "<table class=\"tfo-notebook-buttons\" align=\"left\">\n",
    "  <td>\n",
    "    <a target=\"_blank\" href=\"https://quantumai.google/cirq/experiments/hfvqe/molecular_data\"><img src=\"https://quantumai.google/site-assets/images/buttons/quantumai_logo_1x.png\" />View on QuantumAI</a>\n",
    "  </td>\n",
    "  <td>\n",
    "    <a target=\"_blank\" href=\"https://colab.research.google.com/github/quantumlib/ReCirq/blob/master/docs/hfvqe/molecular_data.ipynb\"><img src=\"https://quantumai.google/site-assets/images/buttons/colab_logo_1x.png\" />Run in Google Colab</a>\n",
    "  </td>\n",
    "  <td>\n",
    "    <a target=\"_blank\" href=\"https://github.com/quantumlib/ReCirq/blob/master/docs/hfvqe/molecular_data.ipynb\"><img src=\"https://quantumai.google/site-assets/images/buttons/github_logo_1x.png\" />View source on GitHub</a>\n",
    "  </td>\n",
    "  <td>\n",
    "    <a href=\"https://storage.googleapis.com/tensorflow_docs/ReCirq/docs/hfvqe/molecular_data.ipynb\"><img src=\"https://quantumai.google/site-assets/images/buttons/download_icon_1x.png\" />Download notebook</a>\n",
    "  </td>\n",
    "</table>"
   ]
  },
  {
   "cell_type": "markdown",
   "metadata": {
    "id": "8d4ac441b1fc"
   },
   "source": [
    "## Setup"
   ]
  },
  {
   "cell_type": "code",
   "execution_count": 2,
   "metadata": {
    "id": "10a67cf51bbe"
   },
   "outputs": [],
   "source": [
    "try:\n",
    "    import recirq\n",
    "except ImportError:\n",
    "    !pip install --quiet git+https://github.com/quantumlib/ReCirq\n",
    "        \n",
    "try:\n",
    "    import openfermionpyscf\n",
    "except ImportError:\n",
    "    !pip install --quiet openfermionpyscf~=0.5.0"
   ]
  },
  {
   "cell_type": "markdown",
   "metadata": {
    "id": "223e437e1cba"
   },
   "source": [
    "Now we can import the packages required for this notebook."
   ]
  },
  {
   "cell_type": "code",
   "execution_count": 3,
   "metadata": {
    "id": "a78e0799b80a"
   },
   "outputs": [],
   "source": [
    "import os\n",
    "import numpy as np\n",
    "import scipy\n",
    "\n",
    "from recirq.hfvqe.molecular_data.molecular_data_construction import (\n",
    "    h6_linear_molecule, h8_linear_molecule, \n",
    "    h10_linear_molecule, h12_linear_molecule, \n",
    "    get_ao_integrals)\n",
    "from recirq.hfvqe.gradient_hf import rhf_minimization, rhf_func_generator\n",
    "from recirq.hfvqe.objective import RestrictedHartreeFockObjective, generate_hamiltonian"
   ]
  },
  {
   "cell_type": "code",
   "execution_count": 4,
   "metadata": {
    "id": "3ea4258dbde5"
   },
   "outputs": [],
   "source": [
    "def make_rhf_objective(molecule):\n",
    "    S, Hcore, TEI = get_ao_integrals(molecule)\n",
    "    _, X = scipy.linalg.eigh(Hcore, S)\n",
    "\n",
    "    molecular_hamiltonian = generate_hamiltonian(\n",
    "        general_basis_change(Hcore, X, (1, 0)),\n",
    "        numpy.einsum('psqr', general_basis_change(TEI, X, (1, 0, 1, 0)),\n",
    "                     molecule.nuclear_repulsion))\n",
    "\n",
    "    rhf_objective = RestrictedHartreeFockObjective(molecular_hamiltonian,\n",
    "                                                   molecule.n_electrons)\n",
    "    return rhf_objective, S, Hcore, TEI"
   ]
  },
  {
   "cell_type": "markdown",
   "metadata": {
    "id": "442f67808f6d"
   },
   "source": [
    "## Hydrogen Chain MolecularData\n",
    "\n",
    "We provide helper functions in the `hfvqe` module to generate the Hydrogen chain data.  Each chain is constructed using OpenFermion and Psi4 via the OpenFermion-Psi4 plugin.  We will use creating H6 with equal spacing between Hydrogen atoms as an example.  "
   ]
  },
  {
   "cell_type": "code",
   "execution_count": 5,
   "metadata": {
    "id": "17b8ac650bc5"
   },
   "outputs": [],
   "source": [
    "from openfermion import MolecularData, general_basis_change\n",
    "from openfermionpyscf import run_pyscf"
   ]
  },
  {
   "cell_type": "code",
   "execution_count": 6,
   "metadata": {
    "id": "d035f38d8522"
   },
   "outputs": [],
   "source": [
    "n_hydrogens = 6\n",
    "bond_distance = 1.3 # in Angstroms\n",
    "molecule = MolecularData(\n",
    "    geometry=[('H', (0, 0, i * bond_distance)) for i in range(n_hydrogens)],\n",
    "    charge=0,\n",
    "    basis='6-31g',\n",
    "    multiplicity=1,\n",
    "    description=f\"linear_r-{bond_distance}\")"
   ]
  },
  {
   "cell_type": "markdown",
   "metadata": {
    "id": "4eb1c6753dd8"
   },
   "source": [
    "The previous lines set up the MolecularData file.  We can now use pyscf to either run a full self-consistent-field Hartree-Fock calculation or get atomic integrals.  Via Openfermion-Pyscf we provide an interface to running Hartree-Fock, coupled-cluster, second order perturbation theory, configuration-interaction singles-doubles, and full configuration interaction.  Many of these methods depend on parameters such as convergence criteria or initial vectors in the subspace expansion.  `run_pyscf` assumes common defaults which are appropriate for most systems. Below we will run default Hartree-Fock and CISD."
   ]
  },
  {
   "cell_type": "code",
   "execution_count": 7,
   "metadata": {
    "id": "44f2f2c32fc1"
   },
   "outputs": [
    {
     "name": "stdout",
     "output_type": "stream",
     "text": [
      "Hartree-Fock energy: -3.1025910099208938 \n",
      "CISD energy: -3.2221034851022194\n"
     ]
    }
   ],
   "source": [
    "molecule = run_pyscf(molecule, run_scf=True, run_cisd=True)\n",
    "print(\"Hartree-Fock energy:\", molecule.hf_energy, \n",
    "      \"\\nCISD energy:\", molecule.cisd_energy)"
   ]
  },
  {
   "cell_type": "markdown",
   "metadata": {
    "id": "880b63e82149"
   },
   "source": [
    "The `MolecularData` file holds almost all information that is required for post-Hartree-Fock correlated calculations.  For example, we provide access to integrals as attributes of `MolecularData`.  "
   ]
  },
  {
   "cell_type": "code",
   "execution_count": 8,
   "metadata": {
    "id": "0946f58621d7"
   },
   "outputs": [
    {
     "name": "stdout",
     "output_type": "stream",
     "text": [
      "Overlap Ints\n",
      "[[1.00000000e+00 6.58292049e-01 1.07450262e-01 2.97950190e-01\n",
      "  2.92936786e-04 2.79155456e-02 1.86658314e-08 5.52805483e-04\n",
      "  2.50532789e-14 2.34306448e-06 7.06186034e-22 2.12361769e-09]\n",
      " [6.58292049e-01 1.00000000e+00 2.97950190e-01 6.14673658e-01\n",
      "  2.79155456e-02 1.42750753e-01 5.52805483e-04 1.25256830e-02\n",
      "  2.34306448e-06 4.15253811e-04 2.12361769e-09 5.20133758e-06]\n",
      " [1.07450262e-01 2.97950190e-01 1.00000000e+00 6.58292049e-01\n",
      "  1.07450262e-01 2.97950190e-01 2.92936786e-04 2.79155456e-02\n",
      "  1.86658314e-08 5.52805483e-04 2.50532789e-14 2.34306448e-06]\n",
      " [2.97950190e-01 6.14673658e-01 6.58292049e-01 1.00000000e+00\n",
      "  2.97950190e-01 6.14673658e-01 2.79155456e-02 1.42750753e-01\n",
      "  5.52805483e-04 1.25256830e-02 2.34306448e-06 4.15253811e-04]\n",
      " [2.92936786e-04 2.79155456e-02 1.07450262e-01 2.97950190e-01\n",
      "  1.00000000e+00 6.58292049e-01 1.07450262e-01 2.97950190e-01\n",
      "  2.92936786e-04 2.79155456e-02 1.86658314e-08 5.52805483e-04]\n",
      " [2.79155456e-02 1.42750753e-01 2.97950190e-01 6.14673658e-01\n",
      "  6.58292049e-01 1.00000000e+00 2.97950190e-01 6.14673658e-01\n",
      "  2.79155456e-02 1.42750753e-01 5.52805483e-04 1.25256830e-02]\n",
      " [1.86658314e-08 5.52805483e-04 2.92936786e-04 2.79155456e-02\n",
      "  1.07450262e-01 2.97950190e-01 1.00000000e+00 6.58292049e-01\n",
      "  1.07450262e-01 2.97950190e-01 2.92936786e-04 2.79155456e-02]\n",
      " [5.52805483e-04 1.25256830e-02 2.79155456e-02 1.42750753e-01\n",
      "  2.97950190e-01 6.14673658e-01 6.58292049e-01 1.00000000e+00\n",
      "  2.97950190e-01 6.14673658e-01 2.79155456e-02 1.42750753e-01]\n",
      " [2.50532789e-14 2.34306448e-06 1.86658314e-08 5.52805483e-04\n",
      "  2.92936786e-04 2.79155456e-02 1.07450262e-01 2.97950190e-01\n",
      "  1.00000000e+00 6.58292049e-01 1.07450262e-01 2.97950190e-01]\n",
      " [2.34306448e-06 4.15253811e-04 5.52805483e-04 1.25256830e-02\n",
      "  2.79155456e-02 1.42750753e-01 2.97950190e-01 6.14673658e-01\n",
      "  6.58292049e-01 1.00000000e+00 2.97950190e-01 6.14673658e-01]\n",
      " [7.06186034e-22 2.12361769e-09 2.50532789e-14 2.34306448e-06\n",
      "  1.86658314e-08 5.52805483e-04 2.92936786e-04 2.79155456e-02\n",
      "  1.07450262e-01 2.97950190e-01 1.00000000e+00 6.58292049e-01]\n",
      " [2.12361769e-09 5.20133758e-06 2.34306448e-06 4.15253811e-04\n",
      "  5.52805483e-04 1.25256830e-02 2.79155456e-02 1.42750753e-01\n",
      "  2.97950190e-01 6.14673658e-01 6.58292049e-01 1.00000000e+00]]\n",
      "\n",
      "One-electron integrals\n",
      "[[-1.87432470e+00 -1.44889294e-15 -1.16409641e-01 -6.93141072e-16\n",
      "  -6.15072095e-02  8.08767162e-16 -1.25730762e-01 -9.32285111e-15\n",
      "  -5.89306300e-02  1.01125399e-16  2.71517033e-03 -1.74496490e-15]\n",
      " [-1.43849427e-15 -1.69304399e+00 -3.44165915e-17  1.65551295e-01\n",
      "   1.03793833e-15 -4.41326519e-02 -6.10215716e-15  1.00494584e-01\n",
      "  -2.58912064e-15 -8.00969374e-02  2.38909615e-16 -6.99057737e-03]\n",
      " [-1.16409641e-01 -1.42546635e-16 -1.61481536e+00 -1.00731916e-15\n",
      "   1.42976433e-01 -8.62841833e-16  1.99568166e-02 -1.43115243e-15\n",
      "  -9.93300277e-02  1.76254334e-16 -8.38901334e-02 -8.84809878e-17]\n",
      " [-7.74841922e-16  1.65551295e-01 -1.00822702e-15 -1.47182180e+00\n",
      "  -9.51785084e-16 -1.55554498e-01 -5.01061281e-15  6.81490634e-02\n",
      "  -1.83879699e-15  1.47404734e-01 -1.24200242e-15 -4.83499815e-02]\n",
      " [-6.15072095e-02  8.87610437e-16  1.42976433e-01 -9.54187841e-16\n",
      "  -1.29158710e+00 -2.42260991e-16  5.71957393e-02 -1.29996924e-16\n",
      "  -1.32455830e-01 -1.05601168e-16  1.56350662e-01 -2.63047405e-15]\n",
      " [ 2.45857794e-16 -4.41326519e-02 -7.77401349e-16 -1.55554498e-01\n",
      "  -7.38177744e-16 -1.24806947e+00  6.89028837e-15 -1.25035099e-01\n",
      "   2.96938505e-15 -1.02022935e-01 -8.25828576e-16 -2.06045942e-01]\n",
      " [-1.25730762e-01 -6.15223507e-15  1.99568166e-02 -4.97366023e-15\n",
      "   5.71957393e-02  6.78914506e-15 -5.80091614e-01 -1.30035042e-14\n",
      "  -1.60790676e-01 -5.96873458e-15 -2.49740453e-02  3.10640206e-15]\n",
      " [-9.23956743e-15  1.00494584e-01 -1.58117082e-15  6.81490634e-02\n",
      "  -5.18574960e-17 -1.25035099e-01 -1.30434122e-14 -4.13964503e-01\n",
      "  -1.16827060e-14  9.28605333e-02 -2.51359929e-15 -4.59666718e-02]\n",
      " [-5.89306300e-02 -2.35197715e-15 -9.93300277e-02 -1.86236390e-15\n",
      "  -1.32455830e-01  2.95110404e-15 -1.60790676e-01 -1.16723302e-14\n",
      "  -4.68340636e-01 -3.67770844e-15 -3.67279868e-02  9.28879753e-16]\n",
      " [ 3.56767068e-17 -8.00969374e-02  5.70278560e-17  1.47404734e-01\n",
      "   2.18795671e-16 -1.02022935e-01 -5.92726075e-15  9.28605333e-02\n",
      "  -3.56344248e-15 -5.21989869e-01  2.55274285e-16  3.96033476e-02]\n",
      " [ 2.71517033e-03 -1.89953658e-16 -8.38901334e-02 -1.20484850e-15\n",
      "   1.56350662e-01 -2.33517738e-16 -2.49740453e-02 -2.69994104e-15\n",
      "  -3.67279868e-02  5.47647382e-16 -5.04870445e-01 -1.10896094e-17]\n",
      " [-9.50947776e-16 -6.99057737e-03 -3.93537098e-16 -4.83499815e-02\n",
      "  -1.73411287e-15 -2.06045942e-01  3.14628854e-15 -4.59666718e-02\n",
      "   9.70159535e-16  3.96033476e-02  4.56684762e-16 -4.15306461e-01]]\n"
     ]
    }
   ],
   "source": [
    "print(\"Overlap Ints\")\n",
    "print(molecule.overlap_integrals)\n",
    "\n",
    "print()\n",
    "print(\"One-electron integrals\")\n",
    "print(molecule.one_body_integrals)"
   ]
  },
  {
   "cell_type": "markdown",
   "metadata": {
    "id": "4f4084b87f8d"
   },
   "source": [
    "For the Hartree-Fock experiment we will need to get the atomic basis integrals from the molecular integrals.  We can use the identity $C^{\\dagger}SC = I$ to reverse the transformation on the one and two electron integrals."
   ]
  },
  {
   "cell_type": "code",
   "execution_count": 9,
   "metadata": {
    "id": "07231b99d404"
   },
   "outputs": [],
   "source": [
    "oei_mo,  tei_mo = molecule.one_body_integrals, molecule.two_body_integrals\n",
    "C = molecule.canonical_orbitals\n",
    "S = molecule.overlap_integrals\n",
    "oei_ao = general_basis_change(oei_mo, C.conj().T @ S, key=(1, 0))"
   ]
  },
  {
   "cell_type": "code",
   "execution_count": 10,
   "metadata": {
    "id": "5d07399e03ef"
   },
   "outputs": [
    {
     "name": "stdout",
     "output_type": "stream",
     "text": [
      "[[-1.18698197e+00 -1.09398249e+00 -2.90382070e-01 -5.73478152e-01\n",
      "  -1.91588194e-03 -7.08618226e-02 -2.34028698e-07 -1.97458486e-03\n",
      "  -5.37783138e-13 -1.18105831e-05 -6.86477567e-17 -1.46391009e-08]\n",
      " [-1.09398249e+00 -1.30863711e+00 -6.31325886e-01 -9.69723130e-01\n",
      "  -7.72940958e-02 -2.75295274e-01 -2.08668247e-03 -2.98813560e-02\n",
      "  -1.21151858e-05 -1.23417943e-03 -1.46391006e-08 -1.91822048e-05]\n",
      " [-2.90382070e-01 -6.31325886e-01 -1.51260669e+00 -1.30790890e+00\n",
      "  -3.09964749e-01 -6.50637018e-01 -1.94571033e-03 -7.66467737e-02\n",
      "  -2.34897054e-07 -2.06566594e-03 -5.37123491e-13 -1.21151858e-05]\n",
      " [-5.73478152e-01 -9.69723130e-01 -1.30790890e+00 -1.61455088e+00\n",
      "  -6.69270617e-01 -1.08041337e+00 -7.82781452e-02 -2.89819977e-01\n",
      "  -2.06566594e-03 -3.04640626e-02 -1.18105831e-05 -1.23417943e-03]\n",
      " [-1.91588194e-03 -7.72940958e-02 -3.09964749e-01 -6.69270617e-01\n",
      "  -1.61437154e+00 -1.37489989e+00 -3.14983314e-01 -6.74320764e-01\n",
      "  -1.94571033e-03 -7.82781452e-02 -2.34028698e-07 -2.08668247e-03]\n",
      " [-7.08618226e-02 -2.75295274e-01 -6.50637018e-01 -1.08041337e+00\n",
      "  -1.37489989e+00 -1.71629957e+00 -6.74320764e-01 -1.10900856e+00\n",
      "  -7.66467737e-02 -2.89819977e-01 -1.97458486e-03 -2.98813560e-02]\n",
      " [-2.34028698e-07 -2.08668247e-03 -1.94571033e-03 -7.82781452e-02\n",
      "  -3.14983314e-01 -6.74320764e-01 -1.61437154e+00 -1.37489989e+00\n",
      "  -3.09964749e-01 -6.69270617e-01 -1.91588194e-03 -7.72940958e-02]\n",
      " [-1.97458486e-03 -2.98813560e-02 -7.66467737e-02 -2.89819977e-01\n",
      "  -6.74320764e-01 -1.10900856e+00 -1.37489989e+00 -1.71629957e+00\n",
      "  -6.50637018e-01 -1.08041337e+00 -7.08618226e-02 -2.75295274e-01]\n",
      " [-5.37654459e-13 -1.21151858e-05 -2.34897053e-07 -2.06566594e-03\n",
      "  -1.94571033e-03 -7.66467737e-02 -3.09964749e-01 -6.50637018e-01\n",
      "  -1.51260669e+00 -1.30790890e+00 -2.90382070e-01 -6.31325886e-01]\n",
      " [-1.18105831e-05 -1.23417943e-03 -2.06566594e-03 -3.04640626e-02\n",
      "  -7.82781452e-02 -2.89819977e-01 -6.69270617e-01 -1.08041337e+00\n",
      "  -1.30790890e+00 -1.61455088e+00 -5.73478152e-01 -9.69723130e-01]\n",
      " [ 4.26765429e-18 -1.46391007e-08 -5.37024183e-13 -1.18105831e-05\n",
      "  -2.34028699e-07 -1.97458486e-03 -1.91588194e-03 -7.08618226e-02\n",
      "  -2.90382070e-01 -5.73478152e-01 -1.18698197e+00 -1.09398249e+00]\n",
      " [-1.46391010e-08 -1.91822048e-05 -1.21151858e-05 -1.23417943e-03\n",
      "  -2.08668247e-03 -2.98813560e-02 -7.72940958e-02 -2.75295274e-01\n",
      "  -6.31325886e-01 -9.69723130e-01 -1.09398249e+00 -1.30863711e+00]]\n"
     ]
    }
   ],
   "source": [
    "print(oei_ao)"
   ]
  },
  {
   "cell_type": "code",
   "execution_count": 11,
   "metadata": {
    "id": "b18c243f3b5f"
   },
   "outputs": [
    {
     "name": "stdout",
     "output_type": "stream",
     "text": [
      "[[-1.87432470e+00 -1.44889294e-15 -1.16409641e-01 -6.93141072e-16\n",
      "  -6.15072095e-02  8.08767162e-16 -1.25730762e-01 -9.32285111e-15\n",
      "  -5.89306300e-02  1.01125399e-16  2.71517033e-03 -1.74496490e-15]\n",
      " [-1.43849427e-15 -1.69304399e+00 -3.44165915e-17  1.65551295e-01\n",
      "   1.03793833e-15 -4.41326519e-02 -6.10215716e-15  1.00494584e-01\n",
      "  -2.58912064e-15 -8.00969374e-02  2.38909615e-16 -6.99057737e-03]\n",
      " [-1.16409641e-01 -1.42546635e-16 -1.61481536e+00 -1.00731916e-15\n",
      "   1.42976433e-01 -8.62841833e-16  1.99568166e-02 -1.43115243e-15\n",
      "  -9.93300277e-02  1.76254334e-16 -8.38901334e-02 -8.84809878e-17]\n",
      " [-7.74841922e-16  1.65551295e-01 -1.00822702e-15 -1.47182180e+00\n",
      "  -9.51785084e-16 -1.55554498e-01 -5.01061281e-15  6.81490634e-02\n",
      "  -1.83879699e-15  1.47404734e-01 -1.24200242e-15 -4.83499815e-02]\n",
      " [-6.15072095e-02  8.87610437e-16  1.42976433e-01 -9.54187841e-16\n",
      "  -1.29158710e+00 -2.42260991e-16  5.71957393e-02 -1.29996924e-16\n",
      "  -1.32455830e-01 -1.05601168e-16  1.56350662e-01 -2.63047405e-15]\n",
      " [ 2.45857794e-16 -4.41326519e-02 -7.77401349e-16 -1.55554498e-01\n",
      "  -7.38177744e-16 -1.24806947e+00  6.89028837e-15 -1.25035099e-01\n",
      "   2.96938505e-15 -1.02022935e-01 -8.25828576e-16 -2.06045942e-01]\n",
      " [-1.25730762e-01 -6.15223507e-15  1.99568166e-02 -4.97366023e-15\n",
      "   5.71957393e-02  6.78914506e-15 -5.80091614e-01 -1.30035042e-14\n",
      "  -1.60790676e-01 -5.96873458e-15 -2.49740453e-02  3.10640206e-15]\n",
      " [-9.23956743e-15  1.00494584e-01 -1.58117082e-15  6.81490634e-02\n",
      "  -5.18574960e-17 -1.25035099e-01 -1.30434122e-14 -4.13964503e-01\n",
      "  -1.16827060e-14  9.28605333e-02 -2.51359929e-15 -4.59666718e-02]\n",
      " [-5.89306300e-02 -2.35197715e-15 -9.93300277e-02 -1.86236390e-15\n",
      "  -1.32455830e-01  2.95110404e-15 -1.60790676e-01 -1.16723302e-14\n",
      "  -4.68340636e-01 -3.67770844e-15 -3.67279868e-02  9.28879753e-16]\n",
      " [ 3.56767068e-17 -8.00969374e-02  5.70278560e-17  1.47404734e-01\n",
      "   2.18795671e-16 -1.02022935e-01 -5.92726075e-15  9.28605333e-02\n",
      "  -3.56344248e-15 -5.21989869e-01  2.55274285e-16  3.96033476e-02]\n",
      " [ 2.71517033e-03 -1.89953658e-16 -8.38901334e-02 -1.20484850e-15\n",
      "   1.56350662e-01 -2.33517738e-16 -2.49740453e-02 -2.69994104e-15\n",
      "  -3.67279868e-02  5.47647382e-16 -5.04870445e-01 -1.10896094e-17]\n",
      " [-9.50947776e-16 -6.99057737e-03 -3.93537098e-16 -4.83499815e-02\n",
      "  -1.73411287e-15 -2.06045942e-01  3.14628854e-15 -4.59666718e-02\n",
      "   9.70159535e-16  3.96033476e-02  4.56684762e-16 -4.15306461e-01]]\n"
     ]
    }
   ],
   "source": [
    "print(oei_mo)"
   ]
  },
  {
   "cell_type": "code",
   "execution_count": 12,
   "metadata": {
    "id": "845f9a984c27"
   },
   "outputs": [],
   "source": [
    "# Use pyscf to get atomic integrals and compare to transformed integrals from above\n",
    "pyscf_mol = molecule._pyscf_data['mol']\n",
    "t = pyscf_mol.intor('int1e_kin')\n",
    "v = pyscf_mol.intor('int1e_nuc')\n",
    "hcore = t + v\n",
    "assert np.allclose(hcore, oei_ao)"
   ]
  },
  {
   "cell_type": "markdown",
   "metadata": {
    "id": "8de5ca003051"
   },
   "source": [
    " The two-electron integrals can also be acquired from the `pyscf_mol` object or we can use the `general_basis_change` to transform the two-electron integrals back into the AO basis."
   ]
  },
  {
   "cell_type": "code",
   "execution_count": 13,
   "metadata": {
    "id": "b4766838c0b8"
   },
   "outputs": [],
   "source": [
    "# Transform the two-electron integrals\n",
    "tei_ao = general_basis_change(tei_mo, C.conj().T @ S, key=(1, 1, 0, 0))  \n",
    "\n",
    "# re-ordering for chem->physics storage of the integrals\n",
    "eri_ao = np.einsum('ijkl->iklj', pyscf_mol.intor('int2e', aosym='s1'))  "
   ]
  },
  {
   "cell_type": "code",
   "execution_count": 14,
   "metadata": {
    "id": "e999ce76ba74"
   },
   "outputs": [],
   "source": [
    "assert np.allclose(tei_ao, eri_ao)\n",
    "assert not np.allclose(tei_ao, tei_mo)"
   ]
  },
  {
   "cell_type": "markdown",
   "metadata": {
    "id": "0e8dd3aa5d98"
   },
   "source": [
    "We also provide a function in `recirq.hfvqe.molecular_data.molecular_data_construction` that uses psi4 to generate atomic integrals for the HF-VQE study.  Once the atomic orbital integrals are obtained we can perform the first step in setting up the HF-VQE experiment.  This involes transforming the integrals to the core-orbital basis and building an `RestrictedHartreeFockObjective`. "
   ]
  },
  {
   "cell_type": "code",
   "execution_count": 15,
   "metadata": {
    "id": "cf87a05f418b"
   },
   "outputs": [],
   "source": [
    "# diagonalize the AO-core Hamiltonian\n",
    "_, X = scipy.linalg.eigh(oei_ao, S)  \n",
    "\n",
    "obi = general_basis_change(oei_ao, X, (1, 0))\n",
    "tbi = np.einsum('psqr', general_basis_change(pyscf_mol.intor('int2e', aosym='s1'), X, (1, 0, 1, 0)))\n",
    "molecular_hamiltonian = generate_hamiltonian(obi, tbi,\n",
    "                                             molecule.nuclear_repulsion)\n",
    "\n",
    "rhf_objective = RestrictedHartreeFockObjective(molecular_hamiltonian,\n",
    "                                               molecule.n_electrons)"
   ]
  },
  {
   "cell_type": "markdown",
   "metadata": {
    "id": "fd15f30cb136"
   },
   "source": [
    "To get initial parameters we can simulate the Hartree-Fock experiment which is performing variational-Hartree-Fock theory."
   ]
  },
  {
   "cell_type": "code",
   "execution_count": 16,
   "metadata": {
    "id": "6347a656b004"
   },
   "outputs": [
    {
     "name": "stdout",
     "output_type": "stream",
     "text": [
      "Optimization terminated successfully.\n",
      "         Current function value: -3.102591\n",
      "         Iterations: 12\n",
      "         Function evaluations: 25\n",
      "         Gradient evaluations: 25\n"
     ]
    }
   ],
   "source": [
    "from recirq.hfvqe.gradient_hf import rhf_minimization, rhf_func_generator\n",
    "# Uses conjugate gradient to solve non-linear hartree-fock functional:\n",
    "scipy_result = rhf_minimization(rhf_objective, verbose=True)  "
   ]
  },
  {
   "cell_type": "code",
   "execution_count": 17,
   "metadata": {
    "id": "cf9e3314bae3"
   },
   "outputs": [
    {
     "name": "stdout",
     "output_type": "stream",
     "text": [
      "-3.1025910099208938 -3.1025910099026555\n"
     ]
    }
   ],
   "source": [
    "print(molecule.hf_energy, scipy_result.fun)"
   ]
  },
  {
   "cell_type": "code",
   "execution_count": 18,
   "metadata": {
    "id": "94bec5ae7352"
   },
   "outputs": [
    {
     "name": "stdout",
     "output_type": "stream",
     "text": [
      "Initial Parameters for HF-VQE Study  [ 9.63447262e-20 -4.73763008e-01  1.49945266e-19 -1.36102259e-02\n",
      "  2.03739138e-20  4.44832962e-01 -6.49889110e-21 -2.59144562e-01\n",
      "  1.14732050e-19  1.17062375e-01  1.23624217e-20  7.61172515e-03\n",
      " -5.00611233e-20  9.47442448e-02  2.38503164e-20 -2.71237044e-04\n",
      " -3.85097230e-20 -7.30836703e-02 -2.10434531e-19 -4.10271133e-02\n",
      "  8.67744493e-20 -4.52955413e-03  2.75170240e-22 -8.54284651e-02\n",
      "  6.27485736e-20 -4.71103578e-02  2.07313981e-20]\n"
     ]
    }
   ],
   "source": [
    "print(\"Initial Parameters for HF-VQE Study \", scipy_result.x)"
   ]
  },
  {
   "cell_type": "code",
   "execution_count": 19,
   "metadata": {
    "id": "cd3195881050"
   },
   "outputs": [
    {
     "data": {
      "text/plain": [
       "<matplotlib.colorbar.Colorbar at 0x7f3cecf0ea50>"
      ]
     },
     "execution_count": 19,
     "metadata": {},
     "output_type": "execute_result"
    },
    {
     "data": {
      "image/png": "[encoded data removed]",
      "text/plain": [
       "<Figure size 640x480 with 2 Axes>"
      ]
     },
     "metadata": {},
     "output_type": "display_data"
    }
   ],
   "source": [
    "# Explicitly build kappa matrix\n",
    "from recirq.hfvqe.circuits import rhf_params_to_matrix\n",
    "import matplotlib.pyplot as plt\n",
    "kappa = rhf_params_to_matrix(scipy_result.x, len(rhf_objective.occ) + len(rhf_objective.virt), rhf_objective.occ,\n",
    "            rhf_objective.virt)\n",
    "plt.imshow(kappa)\n",
    "plt.colorbar()"
   ]
  },
  {
   "cell_type": "code",
   "execution_count": 20,
   "metadata": {},
   "outputs": [
    {
     "data": {
      "text/plain": [
       "[0, 1, 2]"
      ]
     },
     "execution_count": 20,
     "metadata": {},
     "output_type": "execute_result"
    }
   ],
   "source": [
    "rhf_objective.occ"
   ]
  },
  {
   "cell_type": "code",
   "execution_count": 21,
   "metadata": {},
   "outputs": [
    {
     "data": {
      "text/plain": [
       "[3, 4, 5, 6, 7, 8, 9, 10, 11]"
      ]
     },
     "execution_count": 21,
     "metadata": {},
     "output_type": "execute_result"
    }
   ],
   "source": [
    "rhf_objective.virt"
   ]
  },
  {
   "cell_type": "code",
   "execution_count": 22,
   "metadata": {},
   "outputs": [
    {
     "name": "stdout",
     "output_type": "stream",
     "text": [
      "Help on function rhf_params_to_matrix in module recirq.hfvqe.circuits:\n",
      "\n",
      "rhf_params_to_matrix(parameters: numpy.ndarray, num_qubits: int, occ: Optional[List[int]] = None, virt: Optional[List[int]] = None)\n",
      "    Assemble variational parameters into a matrix.\n",
      "\n",
      "    For restricted Hartree-Fock we have nocc * nvirt parameters. These are\n",
      "    provided as a list that is ordered by (virtuals)    imes (occupied) where\n",
      "    occupied is a set of indices corresponding to the occupied orbitals w.r.t\n",
      "    the Lowdin basis and virtuals is a set of indices of the virtual orbitals\n",
      "    w.r.t the Lowdin basis.  For example, for H4 we have 2 orbitals occupied and\n",
      "    2 virtuals:\n",
      "\n",
      "    occupied = [0, 1]  virtuals = [2, 3]\n",
      "\n",
      "    parameters = [(v_{0}, o_{0}), (v_{0}, o_{1}), (v_{1}, o_{0}),\n",
      "                  (v_{1}, o_{1})]\n",
      "               = [(2, 0), (2, 1), (3, 0), (3, 1)]\n",
      "\n",
      "    You can think of the tuples of elements of the upper right triangle of the\n",
      "    antihermitian matrix that specifies the c_{b, i} coefficients.\n",
      "\n",
      "    coefficient matrix\n",
      "    [[ c_{0, 0}, -c_{1, 0}, -c_{2, 0}, -c_{3, 0}],\n",
      "     [ c_{1, 0},  c_{1, 1}, -c_{2, 1}, -c_{3, 1}],\n",
      "     [ c_{2, 0},  c_{2, 1},  c_{2, 2}, -c_{3, 2}],\n",
      "     [ c_{3, 0},  c_{3, 1},  c_{3, 2},  c_{3, 3}]]\n",
      "\n",
      "    Since we are working with only non-redundant operators we know c_{i, i} = 0\n",
      "    and any c_{i, j} where i and j are both in occupied or both in virtual = 0.\n",
      "\n"
     ]
    }
   ],
   "source": [
    "help(rhf_params_to_matrix)"
   ]
  },
  {
   "cell_type": "code",
   "execution_count": null,
   "metadata": {},
   "outputs": [],
   "source": []
  }
 ],
 "metadata": {
  "colab": {
   "name": "molecular_data.ipynb",
   "toc_visible": true
  },
  "kernelspec": {
   "display_name": "Python 3 (ipykernel)",
   "language": "python",
   "name": "python3"
  },
  "language_info": {
   "codemirror_mode": {
    "name": "ipython",
    "version": 3
   },
   "file_extension": ".py",
   "mimetype": "text/x-python",
   "name": "python",
   "nbconvert_exporter": "python",
   "pygments_lexer": "ipython3",
   "version": "3.12.2"
  }
 },
 "nbformat": 4,
 "nbformat_minor": 4
}
