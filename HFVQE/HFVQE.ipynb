{
 "cells": [
  {
   "cell_type": "markdown",
   "id": "6525091d-1c67-4ea1-9005-8822efb2223b",
   "metadata": {},
   "source": [
    "# HFVQE\n",
    "\n",
    "Este es un notebook para programar HFVQE. El código original está en la librería CIRQ de Google, este es un código simplificado con el objetivo de ser más fácil de leer.\n",
    "\n",
    "- Artículo original: https://doi.org/10.1126/science.abb9811\n",
    "- Tutorial: https://quantumai.google/cirq/experiments/hfvqe/quickstart"
   ]
  },
  {
   "cell_type": "markdown",
   "id": "65dabd3b-6991-49b5-91ef-6819c1ecf9f5",
   "metadata": {},
   "source": [
    "Importamos librerías"
   ]
  },
  {
   "cell_type": "code",
   "execution_count": 1,
   "id": "7082587f-4b2a-4fe0-b971-24eac86634ff",
   "metadata": {},
   "outputs": [],
   "source": [
    "import numpy as np\n",
    "import scipy as sp\n",
    "from copy import deepcopy\n",
    "\n",
    "import cirq\n",
    "from cirq.contrib.svg import SVGCircuit"
   ]
  },
  {
   "cell_type": "markdown",
   "id": "467949dd-eef1-4b21-8aa4-f47232db1437",
   "metadata": {},
   "source": [
    "## Givens"
   ]
  },
  {
   "cell_type": "markdown",
   "id": "8edc0c49-86ee-49ca-9000-2c7dd65b1534",
   "metadata": {},
   "source": [
    "Antes de comenzar, necesitamos definir funciones para la descomposición de Givens."
   ]
  },
  {
   "cell_type": "markdown",
   "id": "68a388b6-130f-4e57-8bdd-becfbedb6d09",
   "metadata": {},
   "source": [
    "**Definimos la rotación de Givens para dos elementos.**\n",
    "\n",
    "Dado un vector de dos elementos, $v = \\begin{pmatrix} a \\\\ b \\end{pmatrix}$, la rotación de Givens proporciona una matriz 2x2 tal que (asumiendo $a$ y $b$ reales) y $p = \\text{sign}(a) \\text{sign(b)}$:\n",
    "- Left: $G \\times \\begin{pmatrix} a \\\\ b \\end{pmatrix} = \\begin{pmatrix} 0 \\\\ r \\end{pmatrix}$, con $G = \\frac{1}{\\sqrt{a^2+b^2}} \\begin{pmatrix} |b| & -p|a| \\\\ p|a| & |b| \\end{pmatrix} = \\begin{pmatrix} \\cos \\theta & -p\\sin \\theta \\\\ p\\sin \\theta & \\cos \\theta \\end{pmatrix}$\n",
    "\n",
    "G es la matriz de Rotación que gira el vector $v$ y lo alinea en Y si está en el cuadrante (I y II) y -Y si está en el cuadrante (III y IV).\n",
    "\n",
    "- Right: $G \\times \\begin{pmatrix} a \\\\ b \\end{pmatrix} = \\begin{pmatrix} r \\\\ 0 \\end{pmatrix}$, con $G = \\frac{1}{\\sqrt{a^2+b^2}} \\begin{pmatrix} |a| & p|b| \\\\ -p|b| & |a| \\end{pmatrix} = \\begin{pmatrix} \\sin \\theta & p\\cos \\theta \\\\ -p\\cos \\theta & \\sin \\theta \\end{pmatrix}$\n",
    "\n",
    "G es la matriz de Rotación que gira el vector $v$ y lo alinea en X si está en el cuadrante (I y III) y -X si está en el cuadrante (II y IV).\n",
    "\n",
    "Si $a$ y $b$ son reales, entonces $r_\\text{left}=\\text{sign}(b)\\sqrt{a^2 + b^2}$ y $r_\\text{right}=\\text{sign}(a)\\sqrt{a^2 + b^2}$."
   ]
  },
  {
   "cell_type": "code",
   "execution_count": 2,
   "id": "9a61715c-b26c-421c-bcde-04eb14ec093f",
   "metadata": {},
   "outputs": [],
   "source": [
    "# Versión simplificada de openfermion.linalg.givens_rotations.givens_matrix_elements\n",
    "def givens_matrix_elements(a, b, which='left'):\n",
    "    # Handle case that a is zero\n",
    "    if abs(a) < EQ_TOLERANCE:\n",
    "        cosine = 1.0\n",
    "        sine = 0.0\n",
    "        phase = 1.0\n",
    "    # Handle case that b is zero and a is nonzero\n",
    "    elif abs(b) < EQ_TOLERANCE:\n",
    "        cosine = 0.0\n",
    "        sine = 1.0\n",
    "        phase = 1.0\n",
    "    # Handle case that a and b are both nonzero\n",
    "    else:\n",
    "        denominator = np.sqrt(abs(a) ** 2 + abs(b) ** 2)\n",
    "        cosine = abs(b) / denominator\n",
    "        sine = abs(a) / denominator\n",
    "        sign_b = np.sign(b)\n",
    "        sign_a = np.sign(a)\n",
    "        phase = sign_a * sign_b.conjugate()\n",
    "\n",
    "    if which == 'left':\n",
    "        givens_rotation = np.array([[cosine, -phase * sine], [phase * sine, cosine]])\n",
    "    elif which == 'right':\n",
    "        givens_rotation = np.array([[sine, phase * cosine], [-phase * cosine, sine]])\n",
    "    return givens_rotation"
   ]
  },
  {
   "cell_type": "markdown",
   "id": "466066c5-f0d5-4bbc-b76c-e939b4bde2d3",
   "metadata": {},
   "source": [
    "**Definimos como aplicar la rotación dentro de una matriz más grande**.\n",
    "\n",
    "Dada la matriz de Givens asociada a la rotación:\n",
    "\\begin{equation}\n",
    "M = \\begin{pmatrix}\n",
    "1      & \\cdots & 0      & 0      & \\cdots & 0\\\\\n",
    "\\vdots & 1 & \\vdots & \\vdots & \\ddots & \\vdots\\\\\n",
    "0      & \\cdots & G_{11} & G_{12} & \\cdots & 0\\\\\n",
    "0      & \\cdots & G_{21} & G_{22} & \\cdots & 0\\\\\n",
    "\\vdots & \\ddots & \\vdots & \\vdots & 1 & \\vdots\\\\\n",
    "0      & \\cdots & 0      & 0      & \\cdots & 1\\\\\n",
    "\\end{pmatrix}\n",
    "\\end{equation}\n",
    "y una matriz $O$, el siguiente código aplica la operación:\n",
    "- \"Row\": $M \\times O$\n",
    "- \"Column\": $O \\times M^T$"
   ]
  },
  {
   "cell_type": "code",
   "execution_count": 3,
   "id": "d81f8cc4-6947-4e95-933a-d4d55b7f8a79",
   "metadata": {},
   "outputs": [],
   "source": [
    "def givens_rotate(operator, givens_rotation, i, j, which='row'):\n",
    "    if which == 'row':\n",
    "        # Rotate rows i and j\n",
    "        row_i = operator[i].copy()\n",
    "        row_j = operator[j].copy()\n",
    "        operator[i] = givens_rotation[0, 0] * row_i + givens_rotation[0, 1] * row_j\n",
    "        operator[j] = givens_rotation[1, 0] * row_i + givens_rotation[1, 1] * row_j\n",
    "    elif which == 'col':\n",
    "        # Rotate columns i and j\n",
    "        col_i = operator[:, i].copy()\n",
    "        col_j = operator[:, j].copy()\n",
    "        operator[:, i] = givens_rotation[0, 0] * col_i + givens_rotation[0, 1].conj() * col_j\n",
    "        operator[:, j] = givens_rotation[1, 0] * col_i + givens_rotation[1, 1].conj() * col_j"
   ]
  },
  {
   "cell_type": "markdown",
   "id": "3c2585d0-a95b-46d4-8486-abca1359b2b1",
   "metadata": {},
   "source": [
    "**La siguiente función aplica la descomposición de Givens.**\n",
    "\n",
    "Dada una matriz $Q$, se generan matrices $V$, $U$ y $D$ tal que:\n",
    "\\begin{equation}\n",
    "    V_{(m \\times m)} Q_{(m \\times n)} U{(n \\times n)}^\\dagger = D_{(m \\times n)}\n",
    "\\end{equation}\n",
    "\n",
    "- $Q$ tiene renglones ortonormales ($m \\leq n$)\n",
    "- $V$ es una matriz unitaria\n",
    "- $U$ es una matriz unitaria\n",
    "- $D$ es una matriz diagonal. Las primeras $m$-columnas forman la matriz diagonal, y lo demás es cero.\n",
    "\n",
    "La matriz $U$ se expresa como $U = G_k \\cdots G_1$\n",
    "\n",
    "La primera etapa construye la $V$. Comienza en la esquina superior derecha de la matriz (primer renglón, última columna), y aplica rotaciones de Givens (right y rows) para mover los elementos de los renglones de arriba hacia abajo hasta la diagonal, luego procede a la columna de la izquierda. Esto sucede en el bloque de $m$ renglones y $m-1$ columnas del extremo derecho. Aplica las mismas rotaciones a la matriz identidad y genera la $V$.\n",
    "\n",
    "La segunda parte consiste en construir la matriz $D$ y generar las rotaciones de Givens de $U$ que se usarán en las Quantum Gates. Consiste en tres partes:\n",
    "- 1 Inicia en el renglón $0$ y columna $n-m$ y aplica Rotaciones de Givens para mover los elementos de las columnas hacia la izquierda. En cada iteración, te colocas en el renglón cero y mueves una diagonal hasta que se acaben columnas o renglones. El límite lo establece qué se acaba primero, las $n-m$ columnas (movimiento horizontal) o los $m$ renglones (movimiento vertical).\n",
    "- 2a \\[Se acaban primero los $m$ renglones por abajo ($m < n-m$)\\], entonces continúa moviendo diagonales de derecha a izquierda sin agregar nuevos renglones (porque ya se acabaron) hasta que se acaben las columnas por la izquierda. (Cuando se acaban los renglones por abajo, también se acaban las columnas por la derecha.)\n",
    "- 2b \\[Si se acaban primero las $n-m$ columnas por la izquierda ($n-m < m$)\\], entonces continúa moviendo las diagonales de derecha a izquierda, agregando nuevos renglones pero desplazando el inicio hacia abajo, ya que se acabaron las columnas.\n",
    "- 3 Una vez que se hayan acabado los renglones y columnas, entonces termina de mover lo que falte para hacer la matriz diagonal.\n",
    "\n",
    "*Nota.* 1 no da el último paso, sino que se detiene cuando falta el último renglón/columna y transfiere el control a 2a/b para que hagan cero el último elemento. 2a/b sí dan el último paso de hacer cero el último elemento de columna/renglón y transfieren el control a 3.\n",
    "Nota. Con mover la diagonal me refiero a las diagonales que se forman a partir del elemento inicial, no a la diagonal principal.\n",
    "\n",
    "Las quantum gates que se pueden hacer de manera simultánea corresponden a los elementos de la diagonal que se mueven en la misma iteración $k$."
   ]
  },
  {
   "cell_type": "code",
   "execution_count": 4,
   "id": "195a7a4d-c224-44ca-9ffa-2bd340a3674e",
   "metadata": {},
   "outputs": [],
   "source": [
    "def givens_decomposition(unitary_rows, always_insert=False):\n",
    "    current_matrix = np.copy(unitary_rows)\n",
    "    m, n = current_matrix.shape\n",
    "\n",
    "    # Primera etapa: Genera la matriz V\n",
    "    V = np.eye(m, dtype=complex)\n",
    "    for k in reversed(range(n - m + 1, n)):\n",
    "        for l in range(m - n + k):\n",
    "            givens_rotation = givens_matrix_elements(current_matrix[l, k], current_matrix[l + 1, k])\n",
    "            # Apply Givens rotation\n",
    "            givens_rotate(current_matrix, givens_rotation, l, l + 1)\n",
    "            givens_rotate(V, givens_rotation, l, l + 1)\n",
    "\n",
    "    # Segunda etapa: Genera la matriz D y las rotaciones de Givens para U.\n",
    "    givens_rotations = []\n",
    "    # If m = n (the matrix is square) then we don't need to perform any Givens rotations!\n",
    "    if m != n:\n",
    "        # Get the maximum number of simultaneous rotations that will be performed\n",
    "        max_simul_rotations = min(m, n - m)\n",
    "        # There are n - 1 iterations (the circuit depth is n - 1)\n",
    "        for k in range(n - 1):\n",
    "            # Get the (row, column) indices of elements to zero out in parallel.\n",
    "            if k < max_simul_rotations - 1:\n",
    "                # There are k + 1 elements to zero out\n",
    "                start_row = 0\n",
    "                end_row = k + 1\n",
    "                start_column = n - m - k\n",
    "                end_column = start_column + 2 * (k + 1)\n",
    "            elif k > n - 1 - max_simul_rotations:\n",
    "                # There are n - 1 - k elements to zero out\n",
    "                start_row = m - (n - 1 - k)\n",
    "                end_row = m\n",
    "                start_column = m - (n - 1 - k) + 1\n",
    "                end_column = start_column + 2 * (n - 1 - k)\n",
    "            else:\n",
    "                # There are max_simul_rotations elements to zero out\n",
    "                if max_simul_rotations == m:\n",
    "                    start_row = 0\n",
    "                    end_row = m\n",
    "                    start_column = n - m - k\n",
    "                    end_column = start_column + 2 * m\n",
    "                else:\n",
    "                    start_row = k + 1 - max_simul_rotations\n",
    "                    end_row = k + 1\n",
    "                    start_column = k + 1 - max_simul_rotations + 1\n",
    "                    end_column = start_column + 2 * max_simul_rotations\n",
    "\n",
    "            row_indices = range(start_row, end_row)\n",
    "            column_indices = range(start_column, end_column, 2)\n",
    "            indices_to_zero_out = zip(row_indices, column_indices)\n",
    "\n",
    "            parallel_rotations = []\n",
    "            for i, j in indices_to_zero_out:\n",
    "                # Compute the Givens rotation to zero out the (i, j) element, if needed\n",
    "                right_element = current_matrix[i, j].conj()\n",
    "                if always_insert or abs(right_element) > EQ_TOLERANCE:\n",
    "                    # We actually need to perform a Givens rotation\n",
    "                    left_element = current_matrix[i, j - 1].conj()\n",
    "                    givens_rotation = givens_matrix_elements(\n",
    "                        left_element, right_element, which='right'\n",
    "                    )\n",
    "\n",
    "                    # Add the parameters to the list\n",
    "                    theta = np.arcsin(np.real(givens_rotation[1, 0]))\n",
    "                    parallel_rotations.append((j - 1, j, theta, 0))\n",
    "\n",
    "                    # Update the matrix\n",
    "                    givens_rotate(current_matrix, givens_rotation, j - 1, j, which='col')\n",
    "\n",
    "            # If the current list of parallel operations is not empty, append it to the list,\n",
    "            if parallel_rotations:\n",
    "                givens_rotations.append(tuple(parallel_rotations))\n",
    "\n",
    "    # Get the diagonal entries\n",
    "    diagonal = current_matrix.diagonal()\n",
    "    \n",
    "    return givens_rotations, V, diagonal"
   ]
  },
  {
   "cell_type": "markdown",
   "id": "831a559f-c39a-4553-b3fb-4bd82fc1d6a9",
   "metadata": {},
   "source": [
    "## HFVQE: Cálculo de energía a parámetros fijos. "
   ]
  },
  {
   "cell_type": "markdown",
   "id": "a23f8904-cbd4-4138-9350-90ce52fbd314",
   "metadata": {},
   "source": [
    "\n",
    "\n",
    "**A continuación definimos una molécula y sus integrales en orbital molecular.**"
   ]
  },
  {
   "cell_type": "code",
   "execution_count": 5,
   "id": "74ca661f-58dc-4db6-a327-b30efd98c2f8",
   "metadata": {},
   "outputs": [],
   "source": [
    "import pyscf\n",
    "mol = pyscf.gto.M(atom = \"\"\"\n",
    "  H    0.0000000    0.0000000   0\n",
    "  H    0.0000000    0.0000000   1.3\n",
    "  H    0.0000000    0.0000000   2.6\n",
    "  H    0.0000000    0.0000000   3.9\n",
    "  H    0.0000000    0.0000000   5.2\n",
    "  H    0.0000000    0.0000000   6.5\n",
    "\"\"\", basis = 'sto-3g')\n",
    "\n",
    "S = mol.intor(\"int1e_ovlp\")\n",
    "T = mol.intor_symmetric('int1e_kin')\n",
    "V = mol.intor_symmetric('int1e_nuc')\n",
    "Hcore = T + V\n",
    "\n",
    "I = mol.intor('int2e', aosym=1)\n",
    "\n",
    "e,C = sp.linalg.eigh(Hcore, S)\n",
    "\n",
    "H_MO = np.einsum(\"mn,mi,nj->ij\",Hcore, C, C, optimize=True)\n",
    "I_MO = np.einsum(\"mnsl,mi,nj,sk,lt->ijkt\", I, C, C, C, C, optimize=True)\n",
    "I_MO = np.einsum('psqr->pqrs', I_MO, optimize=True) #Notación física de integrales"
   ]
  },
  {
   "cell_type": "markdown",
   "id": "810a6b13-a934-437c-89cd-891c29dca825",
   "metadata": {},
   "source": [
    "**Declaramos variables** (Restricted Case)"
   ]
  },
  {
   "cell_type": "code",
   "execution_count": 6,
   "id": "247b0a72-193b-43c3-bd5d-7739fd34865c",
   "metadata": {},
   "outputs": [],
   "source": [
    "n_orbitals = np.shape(H_MO)[0]\n",
    "n_qubits = n_orbitals\n",
    "\n",
    "n_electrons = mol.nelectron\n",
    "nocc = n_electrons // 2\n",
    "nvirt = n_orbitals - nocc\n",
    "num_samples = 250000\n",
    "EQ_TOLERANCE = 10**-8"
   ]
  },
  {
   "cell_type": "markdown",
   "id": "c8e9e156-db33-45a8-9301-b77d8d8af67e",
   "metadata": {},
   "source": [
    "**Importamos el sistema de seis hidrógenos** separados por 1.3 Angstroms para usar los mismos parámetros iniciales que lo reportado en ReCirq por fines comparativos. Todo lo demás (obi y tbi) ya está arriba. Podríamos no hacer este paso y usar parámetros iniciales aleatorios.\n",
    "\n",
    "*Nota.* Por dentro, Cirq hace una minimización clásica de los parámetros con scipy.optimize."
   ]
  },
  {
   "cell_type": "code",
   "execution_count": 7,
   "id": "f8a1484c-9f26-4f99-8f20-4a9c7173b8aa",
   "metadata": {},
   "outputs": [
    {
     "name": "stdout",
     "output_type": "stream",
     "text": [
      "Optimization terminated successfully.\n",
      "         Current function value: -2.924060\n",
      "         Iterations: 7\n",
      "         Function evaluations: 15\n",
      "         Gradient evaluations: 15\n"
     ]
    }
   ],
   "source": [
    "from recirq.hfvqe.molecular_example import make_h6_1_3\n",
    "rhf_objective, molecule, parameters, obi, tbi = make_h6_1_3()"
   ]
  },
  {
   "cell_type": "markdown",
   "id": "4f958729-45cc-472f-9b25-0562231f135f",
   "metadata": {},
   "source": [
    "**Generamos tantos qubits como orbitales espaciales.**"
   ]
  },
  {
   "cell_type": "code",
   "execution_count": 8,
   "id": "0ef5cfe9-52df-4514-a6b7-08a5dc83208f",
   "metadata": {},
   "outputs": [],
   "source": [
    "qubits = [cirq.GridQubit(0, x) for x in range(n_qubits)]\n",
    "sampler = cirq.Simulator(dtype=np.complex128)"
   ]
  },
  {
   "cell_type": "markdown",
   "id": "7575e5fd-7095-42e3-a166-6614381c78f7",
   "metadata": {},
   "source": [
    "**Generamos la U unitaria para la rotación de HF**"
   ]
  },
  {
   "cell_type": "code",
   "execution_count": 9,
   "id": "1f142eab-5d63-472a-af61-d27d8c5fcd1f",
   "metadata": {},
   "outputs": [],
   "source": [
    "def create_U(parameters):\n",
    "\n",
    "    Y = np.zeros((n_orbitals, n_orbitals))\n",
    "    Y[nocc:,:nvirt] = parameters.reshape(nocc,nvirt)\n",
    "    Y[:nocc,nvirt:] = -np.transpose(parameters.reshape(nocc,nvirt))\n",
    "\n",
    "    U = sp.linalg.expm(Y)\n",
    "    return U\n",
    "\n",
    "U = create_U(parameters)"
   ]
  },
  {
   "cell_type": "markdown",
   "id": "56e6a95f-72c1-4241-ba79-6fae796d04a2",
   "metadata": {},
   "source": [
    "**Medición de la 1RDM**\n",
    "\n",
    "La estrategia para medir la 1RDM consiste en mediar la diagonal principal y una diagonal superior e inferior. Los demás elementos se obtienen a partir de permutaciones, tal que los otros elementos queden en la diagonal principal, $\\Gamma_{i,i}$, una arriba, $\\Gamma_{i,i+1}$, o una abajo, $\\Gamma_{i+1,i}$.\n",
    "\n",
    "*Por ejemplo, 6 orbitales hacen una 1RDM de 6x6, con 3 permutaciones*:\n",
    "- (0,1,2,3,4,5)\n",
    "- (1,3,0,5,2,4)\n",
    "- (3,5,1,4,0,2)\n",
    "\n",
    "Los elementos diagonales se pueden obtener de cualquier permutación. En general se obtienen de (0,1,2,3,4,5), dando lugar a $\\Gamma_{00}$, $\\Gamma_{11}$, $\\Gamma_{22}$, $\\Gamma_{33}$, $\\Gamma_{44}$, $\\Gamma_{55}$, y los elementos fuera de la diagonal se obtienen como:\n",
    "- El ordenamiento de orbitales como (0,1,2,3,4,5) proporciona los términos $\\Gamma_{0,1}$, $\\Gamma_{1,2}$, $\\Gamma_{2,3}$, $\\Gamma_{3,4}$, $\\Gamma_{4,5}$\n",
    "- El ordenamiento de orbitales como (1,3,0,5,2,4) proporciona los términos $\\Gamma_{1,3}$, $\\Gamma_{3,0}$, $\\Gamma_{0,5}$, $\\Gamma_{5,2}$, $\\Gamma_{2,4}$\n",
    "- El ordenamiento de orbitales como (3,5,1,4,0,2) proporciona los términos $\\Gamma_{3,5}$, $\\Gamma_{5,1}$, $\\Gamma_{1,4}$, $\\Gamma_{4,0}$, $\\Gamma_{0,2}$\n",
    "\n",
    "\n",
    "Dados $N$ orbitales, necesitamos $N/2$ permutaciones."
   ]
  },
  {
   "cell_type": "code",
   "execution_count": 10,
   "id": "2abbc78a-fcff-466e-9a61-f9df8add4a3a",
   "metadata": {},
   "outputs": [],
   "source": [
    "def generate_permutations():\n",
    "\n",
    "    num_permutations = n_qubits//2\n",
    "    permutations = []\n",
    "    permuted_indeces = []\n",
    "    for i in range(num_permutations):\n",
    "        # Generate permutation list\n",
    "        swap_depth = 2*i\n",
    "        swap_list = []\n",
    "        indeces = list(range(n_qubits))\n",
    "        for i in range(0, swap_depth):\n",
    "            if i % 2 == 0:\n",
    "                swap_list.append([(i, i + 1) for i in range(0, n_qubits - 1, 2)])\n",
    "            else:\n",
    "                swap_list.append([(i, i + 1) for i in range(1, n_qubits - 1, 2)])\n",
    "        permutations.append(swap_list)\n",
    "        for i in range(0, swap_depth):\n",
    "            for j,k in swap_list[i]:\n",
    "                indeces[j], indeces[k] = indeces[k], indeces[j]\n",
    "        permuted_indeces.append(indeces)\n",
    "\n",
    "    return permutations, permuted_indeces\n",
    "\n",
    "permutations, permuted_indeces = generate_permutations()"
   ]
  },
  {
   "cell_type": "markdown",
   "id": "23561095-fa5b-4fe5-bd54-5b11def68aff",
   "metadata": {},
   "source": [
    "**Generamos la U para cada permutación**"
   ]
  },
  {
   "cell_type": "code",
   "execution_count": 11,
   "id": "cec3680a-5cb6-4034-8ffe-9374caaa97f9",
   "metadata": {},
   "outputs": [],
   "source": [
    "def generate_permuted_matrices(permutations,U):\n",
    "    \n",
    "    permuted_matrices = []\n",
    "    for swap_list in permutations:\n",
    "        # Generate swap unitaries\n",
    "        swap_unitaries = []\n",
    "        for swap_tuples in swap_list:\n",
    "            generator = np.zeros((n_qubits, n_qubits), dtype=np.complex128)\n",
    "            for i, j in swap_tuples:\n",
    "                generator[i, i] = -1\n",
    "                generator[j, j] = -1\n",
    "                generator[i, j] = 1\n",
    "                generator[j, i] = 1\n",
    "            swap_unitaries.append(sp.linalg.expm(-1j * np.pi * generator / 2))\n",
    "\n",
    "        shifted_unitary = U.copy()\n",
    "        for uu in swap_unitaries:\n",
    "            shifted_unitary = uu @ shifted_unitary\n",
    "        matrix = shifted_unitary.T[:nocc, :]\n",
    "        permuted_matrices.append(matrix)\n",
    "\n",
    "    return permuted_matrices\n",
    "\n",
    "permuted_matrices = generate_permuted_matrices(permutations,U)"
   ]
  },
  {
   "cell_type": "markdown",
   "id": "a1ed9120-44c2-443e-9d53-55bb2306b74f",
   "metadata": {},
   "source": [
    "**Generamos el circuito de preparación del sistema para cada permutación**"
   ]
  },
  {
   "cell_type": "code",
   "execution_count": 12,
   "id": "7d6bd2b4-ae02-443d-9755-f747aba0e5d5",
   "metadata": {},
   "outputs": [],
   "source": [
    "def generate_permuted_circuits(permuted_matrices,qubits):\n",
    "    circuits = [] # un circuito por permutación\n",
    "    for matrix in permuted_matrices:\n",
    "        permuted_circuit = cirq.Circuit()\n",
    "        decomposition,_,_ = givens_decomposition(matrix)\n",
    "    \n",
    "        circuit_description = list(reversed(decomposition))\n",
    "\n",
    "        # Initialize occupied orbitals\n",
    "        for j in range(matrix.shape[0]):\n",
    "            permuted_circuit += cirq.X(qubits[j])\n",
    "    \n",
    "        for parallel_ops in circuit_description:\n",
    "            for op in parallel_ops:\n",
    "                i, j, theta, phi = op\n",
    "                \n",
    "                #ryxxy(qubits[i], qubits[j], theta)\n",
    "                a = qubits[i]\n",
    "                b = qubits[j]\n",
    "                permuted_circuit += cirq.ISWAP.on(a, b)**0.5\n",
    "                permuted_circuit += cirq.rz(-theta + np.pi).on(a)\n",
    "                permuted_circuit += cirq.rz(theta).on(b)\n",
    "                permuted_circuit += cirq.ISWAP.on(a, b)**0.5\n",
    "                permuted_circuit += cirq.rz(np.pi).on(a)\n",
    "        circuits.append(permuted_circuit)\n",
    "    return circuits\n",
    "circuits = generate_permuted_circuits(permuted_matrices,qubits)"
   ]
  },
  {
   "cell_type": "markdown",
   "id": "8497bb39-8ce3-476d-8268-f4a7117b36be",
   "metadata": {},
   "source": [
    "**Visualizamos un circuito para revisar que todo salió bien.** (En este ejemplo hay 3 circuitos, porque hay 3 permutaciones).\n",
    "\n",
    "Cada circuito prepara el determinante de Slater dado un conjunto de parámetros que producen la rotación. Notar que todavía no hay mediciones en el circuito.\n",
    "\n",
    "Podemos visualizar:\n",
    "```\n",
    "SVGCircuit(circuits[0])\n",
    "SVGCircuit(circuits[1])\n",
    "SVGCircuit(circuits[2])\n",
    "```"
   ]
  },
  {
   "cell_type": "code",
   "execution_count": 13,
   "id": "5e0b2cb1-e220-4a53-9872-463afed6db5d",
   "metadata": {},
   "outputs": [
    {
     "data": {
      "image/svg+xml": [
       "<svg xmlns=\"http://www.w3.org/2000/svg\" width=\"1552.19828125\" height=\"300.0\"><line x1=\"32.246796875\" x2=\"1522.19828125\" y1=\"25.0\" y2=\"25.0\" stroke=\"#1967d2\" stroke-width=\"1\" /><line x1=\"32.246796875\" x2=\"1522.19828125\" y1=\"75.0\" y2=\"75.0\" stroke=\"#1967d2\" stroke-width=\"1\" /><line x1=\"32.246796875\" x2=\"1522.19828125\" y1=\"125.0\" y2=\"125.0\" stroke=\"#1967d2\" stroke-width=\"1\" /><line x1=\"32.246796875\" x2=\"1522.19828125\" y1=\"175.0\" y2=\"175.0\" stroke=\"#1967d2\" stroke-width=\"1\" /><line x1=\"32.246796875\" x2=\"1522.19828125\" y1=\"225.0\" y2=\"225.0\" stroke=\"#1967d2\" stroke-width=\"1\" /><line x1=\"32.246796875\" x2=\"1522.19828125\" y1=\"275.0\" y2=\"275.0\" stroke=\"#1967d2\" stroke-width=\"1\" /><line x1=\"170.82939453125\" x2=\"170.82939453125\" y1=\"125.0\" y2=\"175.0\" stroke=\"black\" stroke-width=\"3\" /><line x1=\"352.11259765625\" x2=\"352.11259765625\" y1=\"125.0\" y2=\"175.0\" stroke=\"black\" stroke-width=\"3\" /><line x1=\"444.78419921875\" x2=\"444.78419921875\" y1=\"175.0\" y2=\"225.0\" stroke=\"black\" stroke-width=\"3\" /><line x1=\"543.21193359375\" x2=\"543.21193359375\" y1=\"75.0\" y2=\"125.0\" stroke=\"black\" stroke-width=\"3\" /><line x1=\"647.39580078125\" x2=\"647.39580078125\" y1=\"175.0\" y2=\"225.0\" stroke=\"black\" stroke-width=\"3\" /><line x1=\"745.82353515625\" x2=\"745.82353515625\" y1=\"75.0\" y2=\"125.0\" stroke=\"black\" stroke-width=\"3\" /><line x1=\"745.82353515625\" x2=\"745.82353515625\" y1=\"225.0\" y2=\"275.0\" stroke=\"black\" stroke-width=\"3\" /><line x1=\"841.92021484375\" x2=\"841.92021484375\" y1=\"125.0\" y2=\"175.0\" stroke=\"black\" stroke-width=\"3\" /><line x1=\"938.01689453125\" x2=\"938.01689453125\" y1=\"25.0\" y2=\"75.0\" stroke=\"black\" stroke-width=\"3\" /><line x1=\"938.01689453125\" x2=\"938.01689453125\" y1=\"225.0\" y2=\"275.0\" stroke=\"black\" stroke-width=\"3\" /><line x1=\"1030.68849609375\" x2=\"1030.68849609375\" y1=\"125.0\" y2=\"175.0\" stroke=\"black\" stroke-width=\"3\" /><line x1=\"1123.3600976562502\" x2=\"1123.3600976562502\" y1=\"25.0\" y2=\"75.0\" stroke=\"black\" stroke-width=\"3\" /><line x1=\"1123.3600976562502\" x2=\"1123.3600976562502\" y1=\"175.0\" y2=\"225.0\" stroke=\"black\" stroke-width=\"3\" /><line x1=\"1216.0316992187502\" x2=\"1216.0316992187502\" y1=\"75.0\" y2=\"125.0\" stroke=\"black\" stroke-width=\"3\" /><line x1=\"1308.7033007812502\" x2=\"1308.7033007812502\" y1=\"175.0\" y2=\"225.0\" stroke=\"black\" stroke-width=\"3\" /><line x1=\"1401.3749023437501\" x2=\"1401.3749023437501\" y1=\"75.0\" y2=\"125.0\" stroke=\"black\" stroke-width=\"3\" /><rect x=\"10.0\" y=\"5.0\" width=\"44.49359375\" height=\"40\" stroke=\"black\" fill=\"white\" stroke-width=\"0\" /><text x=\"32.246796875\" y=\"25.0\" dominant-baseline=\"middle\" text-anchor=\"middle\" font-size=\"14px\" font-family=\"Arial:style=normal:variant=normal:weight=normal:stretch=normal:size=10.0\">(0, 0): </text><rect x=\"10.0\" y=\"55.0\" width=\"44.49359375\" height=\"40\" stroke=\"black\" fill=\"white\" stroke-width=\"0\" /><text x=\"32.246796875\" y=\"75.0\" dominant-baseline=\"middle\" text-anchor=\"middle\" font-size=\"14px\" font-family=\"Arial:style=normal:variant=normal:weight=normal:stretch=normal:size=10.0\">(0, 1): </text><rect x=\"10.0\" y=\"105.0\" width=\"44.49359375\" height=\"40\" stroke=\"black\" fill=\"white\" stroke-width=\"0\" /><text x=\"32.246796875\" y=\"125.0\" dominant-baseline=\"middle\" text-anchor=\"middle\" font-size=\"14px\" font-family=\"Arial:style=normal:variant=normal:weight=normal:stretch=normal:size=10.0\">(0, 2): </text><rect x=\"10.0\" y=\"155.0\" width=\"44.49359375\" height=\"40\" stroke=\"black\" fill=\"white\" stroke-width=\"0\" /><text x=\"32.246796875\" y=\"175.0\" dominant-baseline=\"middle\" text-anchor=\"middle\" font-size=\"14px\" font-family=\"Arial:style=normal:variant=normal:weight=normal:stretch=normal:size=10.0\">(0, 3): </text><rect x=\"10.0\" y=\"205.0\" width=\"44.49359375\" height=\"40\" stroke=\"black\" fill=\"white\" stroke-width=\"0\" /><text x=\"32.246796875\" y=\"225.0\" dominant-baseline=\"middle\" text-anchor=\"middle\" font-size=\"14px\" font-family=\"Arial:style=normal:variant=normal:weight=normal:stretch=normal:size=10.0\">(0, 4): </text><rect x=\"10.0\" y=\"255.0\" width=\"44.49359375\" height=\"40\" stroke=\"black\" fill=\"white\" stroke-width=\"0\" /><text x=\"32.246796875\" y=\"275.0\" dominant-baseline=\"middle\" text-anchor=\"middle\" font-size=\"14px\" font-family=\"Arial:style=normal:variant=normal:weight=normal:stretch=normal:size=10.0\">(0, 5): </text><rect x=\"74.49359375\" y=\"5.0\" width=\"40\" height=\"40\" stroke=\"black\" fill=\"white\" stroke-width=\"1\" /><text x=\"94.49359375\" y=\"25.0\" dominant-baseline=\"middle\" text-anchor=\"middle\" font-size=\"18px\" font-family=\"Arial:style=normal:variant=normal:weight=normal:stretch=normal:size=10.0\">X</text><rect x=\"74.49359375\" y=\"55.0\" width=\"40\" height=\"40\" stroke=\"black\" fill=\"white\" stroke-width=\"1\" /><text x=\"94.49359375\" y=\"75.0\" dominant-baseline=\"middle\" text-anchor=\"middle\" font-size=\"18px\" font-family=\"Arial:style=normal:variant=normal:weight=normal:stretch=normal:size=10.0\">X</text><rect x=\"74.49359375\" y=\"105.0\" width=\"40\" height=\"40\" stroke=\"black\" fill=\"white\" stroke-width=\"1\" /><text x=\"94.49359375\" y=\"125.0\" dominant-baseline=\"middle\" text-anchor=\"middle\" font-size=\"18px\" font-family=\"Arial:style=normal:variant=normal:weight=normal:stretch=normal:size=10.0\">X</text><rect x=\"134.49359375\" y=\"105.0\" width=\"72.6716015625\" height=\"40\" stroke=\"black\" fill=\"white\" stroke-width=\"1\" /><text x=\"170.82939453125\" y=\"125.0\" dominant-baseline=\"middle\" text-anchor=\"middle\" font-size=\"14px\" font-family=\"Arial:style=normal:variant=normal:weight=normal:stretch=normal:size=10.0\">iSwap</text><rect x=\"134.49359375\" y=\"155.0\" width=\"72.6716015625\" height=\"40\" stroke=\"black\" fill=\"white\" stroke-width=\"1\" /><text x=\"170.82939453125\" y=\"175.0\" dominant-baseline=\"middle\" text-anchor=\"middle\" font-size=\"14px\" font-family=\"Arial:style=normal:variant=normal:weight=normal:stretch=normal:size=10.0\">iSwap^0.5</text><rect x=\"227.16519531249997\" y=\"105.0\" width=\"68.6116015625\" height=\"40\" stroke=\"black\" fill=\"white\" stroke-width=\"1\" /><text x=\"261.47099609375\" y=\"125.0\" dominant-baseline=\"middle\" text-anchor=\"middle\" font-size=\"14px\" font-family=\"Arial:style=normal:variant=normal:weight=normal:stretch=normal:size=10.0\">Rz(1.5π)</text><rect x=\"227.16519531249997\" y=\"155.0\" width=\"68.6116015625\" height=\"40\" stroke=\"black\" fill=\"white\" stroke-width=\"1\" /><text x=\"261.47099609375\" y=\"175.0\" dominant-baseline=\"middle\" text-anchor=\"middle\" font-size=\"14px\" font-family=\"Arial:style=normal:variant=normal:weight=normal:stretch=normal:size=10.0\">Rz(-0.5π)</text><rect x=\"315.776796875\" y=\"105.0\" width=\"72.6716015625\" height=\"40\" stroke=\"black\" fill=\"white\" stroke-width=\"1\" /><text x=\"352.11259765625\" y=\"125.0\" dominant-baseline=\"middle\" text-anchor=\"middle\" font-size=\"14px\" font-family=\"Arial:style=normal:variant=normal:weight=normal:stretch=normal:size=10.0\">iSwap</text><rect x=\"315.776796875\" y=\"155.0\" width=\"72.6716015625\" height=\"40\" stroke=\"black\" fill=\"white\" stroke-width=\"1\" /><text x=\"352.11259765625\" y=\"175.0\" dominant-baseline=\"middle\" text-anchor=\"middle\" font-size=\"14px\" font-family=\"Arial:style=normal:variant=normal:weight=normal:stretch=normal:size=10.0\">iSwap^0.5</text><rect x=\"408.44839843750003\" y=\"105.0\" width=\"72.6716015625\" height=\"40\" stroke=\"black\" fill=\"white\" stroke-width=\"1\" /><text x=\"444.78419921875\" y=\"125.0\" dominant-baseline=\"middle\" text-anchor=\"middle\" font-size=\"14px\" font-family=\"Arial:style=normal:variant=normal:weight=normal:stretch=normal:size=10.0\">Rz(π)</text><rect x=\"408.44839843750003\" y=\"155.0\" width=\"72.6716015625\" height=\"40\" stroke=\"black\" fill=\"white\" stroke-width=\"1\" /><text x=\"444.78419921875\" y=\"175.0\" dominant-baseline=\"middle\" text-anchor=\"middle\" font-size=\"14px\" font-family=\"Arial:style=normal:variant=normal:weight=normal:stretch=normal:size=10.0\">iSwap</text><rect x=\"408.44839843750003\" y=\"205.0\" width=\"72.6716015625\" height=\"40\" stroke=\"black\" fill=\"white\" stroke-width=\"1\" /><text x=\"444.78419921875\" y=\"225.0\" dominant-baseline=\"middle\" text-anchor=\"middle\" font-size=\"14px\" font-family=\"Arial:style=normal:variant=normal:weight=normal:stretch=normal:size=10.0\">iSwap^0.5</text><rect x=\"501.12\" y=\"55.0\" width=\"84.18386718750001\" height=\"40\" stroke=\"black\" fill=\"white\" stroke-width=\"1\" /><text x=\"543.21193359375\" y=\"75.0\" dominant-baseline=\"middle\" text-anchor=\"middle\" font-size=\"14px\" font-family=\"Arial:style=normal:variant=normal:weight=normal:stretch=normal:size=10.0\">iSwap</text><rect x=\"501.12\" y=\"105.0\" width=\"84.18386718750001\" height=\"40\" stroke=\"black\" fill=\"white\" stroke-width=\"1\" /><text x=\"543.21193359375\" y=\"125.0\" dominant-baseline=\"middle\" text-anchor=\"middle\" font-size=\"14px\" font-family=\"Arial:style=normal:variant=normal:weight=normal:stretch=normal:size=10.0\">iSwap^0.5</text><rect x=\"501.12\" y=\"155.0\" width=\"84.18386718750001\" height=\"40\" stroke=\"black\" fill=\"white\" stroke-width=\"1\" /><text x=\"543.21193359375\" y=\"175.0\" dominant-baseline=\"middle\" text-anchor=\"middle\" font-size=\"14px\" font-family=\"Arial:style=normal:variant=normal:weight=normal:stretch=normal:size=10.0\">Rz(1.16π)</text><rect x=\"501.12\" y=\"205.0\" width=\"84.18386718750001\" height=\"40\" stroke=\"black\" fill=\"white\" stroke-width=\"1\" /><text x=\"543.21193359375\" y=\"225.0\" dominant-baseline=\"middle\" text-anchor=\"middle\" font-size=\"14px\" font-family=\"Arial:style=normal:variant=normal:weight=normal:stretch=normal:size=10.0\">Rz(-0.164π)</text><rect x=\"605.3038671875\" y=\"55.0\" width=\"84.18386718750001\" height=\"40\" stroke=\"black\" fill=\"white\" stroke-width=\"1\" /><text x=\"647.39580078125\" y=\"75.0\" dominant-baseline=\"middle\" text-anchor=\"middle\" font-size=\"14px\" font-family=\"Arial:style=normal:variant=normal:weight=normal:stretch=normal:size=10.0\">Rz(1.13π)</text><rect x=\"605.3038671875\" y=\"105.0\" width=\"84.18386718750001\" height=\"40\" stroke=\"black\" fill=\"white\" stroke-width=\"1\" /><text x=\"647.39580078125\" y=\"125.0\" dominant-baseline=\"middle\" text-anchor=\"middle\" font-size=\"14px\" font-family=\"Arial:style=normal:variant=normal:weight=normal:stretch=normal:size=10.0\">Rz(-0.133π)</text><rect x=\"605.3038671875\" y=\"155.0\" width=\"84.18386718750001\" height=\"40\" stroke=\"black\" fill=\"white\" stroke-width=\"1\" /><text x=\"647.39580078125\" y=\"175.0\" dominant-baseline=\"middle\" text-anchor=\"middle\" font-size=\"14px\" font-family=\"Arial:style=normal:variant=normal:weight=normal:stretch=normal:size=10.0\">iSwap</text><rect x=\"605.3038671875\" y=\"205.0\" width=\"84.18386718750001\" height=\"40\" stroke=\"black\" fill=\"white\" stroke-width=\"1\" /><text x=\"647.39580078125\" y=\"225.0\" dominant-baseline=\"middle\" text-anchor=\"middle\" font-size=\"14px\" font-family=\"Arial:style=normal:variant=normal:weight=normal:stretch=normal:size=10.0\">iSwap^0.5</text><rect x=\"709.4877343750001\" y=\"55.0\" width=\"72.6716015625\" height=\"40\" stroke=\"black\" fill=\"white\" stroke-width=\"1\" /><text x=\"745.82353515625\" y=\"75.0\" dominant-baseline=\"middle\" text-anchor=\"middle\" font-size=\"14px\" font-family=\"Arial:style=normal:variant=normal:weight=normal:stretch=normal:size=10.0\">iSwap</text><rect x=\"709.4877343750001\" y=\"105.0\" width=\"72.6716015625\" height=\"40\" stroke=\"black\" fill=\"white\" stroke-width=\"1\" /><text x=\"745.82353515625\" y=\"125.0\" dominant-baseline=\"middle\" text-anchor=\"middle\" font-size=\"14px\" font-family=\"Arial:style=normal:variant=normal:weight=normal:stretch=normal:size=10.0\">iSwap^0.5</text><rect x=\"709.4877343750001\" y=\"155.0\" width=\"72.6716015625\" height=\"40\" stroke=\"black\" fill=\"white\" stroke-width=\"1\" /><text x=\"745.82353515625\" y=\"175.0\" dominant-baseline=\"middle\" text-anchor=\"middle\" font-size=\"14px\" font-family=\"Arial:style=normal:variant=normal:weight=normal:stretch=normal:size=10.0\">Rz(π)</text><rect x=\"709.4877343750001\" y=\"205.0\" width=\"72.6716015625\" height=\"40\" stroke=\"black\" fill=\"white\" stroke-width=\"1\" /><text x=\"745.82353515625\" y=\"225.0\" dominant-baseline=\"middle\" text-anchor=\"middle\" font-size=\"14px\" font-family=\"Arial:style=normal:variant=normal:weight=normal:stretch=normal:size=10.0\">iSwap</text><rect x=\"709.4877343750001\" y=\"255.0\" width=\"72.6716015625\" height=\"40\" stroke=\"black\" fill=\"white\" stroke-width=\"1\" /><text x=\"745.82353515625\" y=\"275.0\" dominant-baseline=\"middle\" text-anchor=\"middle\" font-size=\"14px\" font-family=\"Arial:style=normal:variant=normal:weight=normal:stretch=normal:size=10.0\">iSwap^0.5</text><rect x=\"802.1593359375\" y=\"55.0\" width=\"79.5217578125\" height=\"40\" stroke=\"black\" fill=\"white\" stroke-width=\"1\" /><text x=\"841.92021484375\" y=\"75.0\" dominant-baseline=\"middle\" text-anchor=\"middle\" font-size=\"14px\" font-family=\"Arial:style=normal:variant=normal:weight=normal:stretch=normal:size=10.0\">Rz(π)</text><rect x=\"802.1593359375\" y=\"105.0\" width=\"79.5217578125\" height=\"40\" stroke=\"black\" fill=\"white\" stroke-width=\"1\" /><text x=\"841.92021484375\" y=\"125.0\" dominant-baseline=\"middle\" text-anchor=\"middle\" font-size=\"14px\" font-family=\"Arial:style=normal:variant=normal:weight=normal:stretch=normal:size=10.0\">iSwap</text><rect x=\"802.1593359375\" y=\"155.0\" width=\"79.5217578125\" height=\"40\" stroke=\"black\" fill=\"white\" stroke-width=\"1\" /><text x=\"841.92021484375\" y=\"175.0\" dominant-baseline=\"middle\" text-anchor=\"middle\" font-size=\"14px\" font-family=\"Arial:style=normal:variant=normal:weight=normal:stretch=normal:size=10.0\">iSwap^0.5</text><rect x=\"802.1593359375\" y=\"205.0\" width=\"79.5217578125\" height=\"40\" stroke=\"black\" fill=\"white\" stroke-width=\"1\" /><text x=\"841.92021484375\" y=\"225.0\" dominant-baseline=\"middle\" text-anchor=\"middle\" font-size=\"14px\" font-family=\"Arial:style=normal:variant=normal:weight=normal:stretch=normal:size=10.0\">Rz(0.847π)</text><rect x=\"802.1593359375\" y=\"255.0\" width=\"79.5217578125\" height=\"40\" stroke=\"black\" fill=\"white\" stroke-width=\"1\" /><text x=\"841.92021484375\" y=\"275.0\" dominant-baseline=\"middle\" text-anchor=\"middle\" font-size=\"14px\" font-family=\"Arial:style=normal:variant=normal:weight=normal:stretch=normal:size=10.0\">Rz(0.153π)</text><rect x=\"901.6810937500001\" y=\"5.0\" width=\"72.6716015625\" height=\"40\" stroke=\"black\" fill=\"white\" stroke-width=\"1\" /><text x=\"938.01689453125\" y=\"25.0\" dominant-baseline=\"middle\" text-anchor=\"middle\" font-size=\"14px\" font-family=\"Arial:style=normal:variant=normal:weight=normal:stretch=normal:size=10.0\">iSwap</text><rect x=\"901.6810937500001\" y=\"55.0\" width=\"72.6716015625\" height=\"40\" stroke=\"black\" fill=\"white\" stroke-width=\"1\" /><text x=\"938.01689453125\" y=\"75.0\" dominant-baseline=\"middle\" text-anchor=\"middle\" font-size=\"14px\" font-family=\"Arial:style=normal:variant=normal:weight=normal:stretch=normal:size=10.0\">iSwap^0.5</text><rect x=\"901.6810937500001\" y=\"105.0\" width=\"72.6716015625\" height=\"40\" stroke=\"black\" fill=\"white\" stroke-width=\"1\" /><text x=\"938.01689453125\" y=\"125.0\" dominant-baseline=\"middle\" text-anchor=\"middle\" font-size=\"14px\" font-family=\"Arial:style=normal:variant=normal:weight=normal:stretch=normal:size=10.0\">Rz(1.5π)</text><rect x=\"901.6810937500001\" y=\"155.0\" width=\"72.6716015625\" height=\"40\" stroke=\"black\" fill=\"white\" stroke-width=\"1\" /><text x=\"938.01689453125\" y=\"175.0\" dominant-baseline=\"middle\" text-anchor=\"middle\" font-size=\"14px\" font-family=\"Arial:style=normal:variant=normal:weight=normal:stretch=normal:size=10.0\">Rz(-0.5π)</text><rect x=\"901.6810937500001\" y=\"205.0\" width=\"72.6716015625\" height=\"40\" stroke=\"black\" fill=\"white\" stroke-width=\"1\" /><text x=\"938.01689453125\" y=\"225.0\" dominant-baseline=\"middle\" text-anchor=\"middle\" font-size=\"14px\" font-family=\"Arial:style=normal:variant=normal:weight=normal:stretch=normal:size=10.0\">iSwap</text><rect x=\"901.6810937500001\" y=\"255.0\" width=\"72.6716015625\" height=\"40\" stroke=\"black\" fill=\"white\" stroke-width=\"1\" /><text x=\"938.01689453125\" y=\"275.0\" dominant-baseline=\"middle\" text-anchor=\"middle\" font-size=\"14px\" font-family=\"Arial:style=normal:variant=normal:weight=normal:stretch=normal:size=10.0\">iSwap^0.5</text><rect x=\"994.3526953125\" y=\"5.0\" width=\"72.6716015625\" height=\"40\" stroke=\"black\" fill=\"white\" stroke-width=\"1\" /><text x=\"1030.68849609375\" y=\"25.0\" dominant-baseline=\"middle\" text-anchor=\"middle\" font-size=\"14px\" font-family=\"Arial:style=normal:variant=normal:weight=normal:stretch=normal:size=10.0\">Rz(0.99π)</text><rect x=\"994.3526953125\" y=\"55.0\" width=\"72.6716015625\" height=\"40\" stroke=\"black\" fill=\"white\" stroke-width=\"1\" /><text x=\"1030.68849609375\" y=\"75.0\" dominant-baseline=\"middle\" text-anchor=\"middle\" font-size=\"14px\" font-family=\"Arial:style=normal:variant=normal:weight=normal:stretch=normal:size=10.0\">Rz(0.01π)</text><rect x=\"994.3526953125\" y=\"105.0\" width=\"72.6716015625\" height=\"40\" stroke=\"black\" fill=\"white\" stroke-width=\"1\" /><text x=\"1030.68849609375\" y=\"125.0\" dominant-baseline=\"middle\" text-anchor=\"middle\" font-size=\"14px\" font-family=\"Arial:style=normal:variant=normal:weight=normal:stretch=normal:size=10.0\">iSwap</text><rect x=\"994.3526953125\" y=\"155.0\" width=\"72.6716015625\" height=\"40\" stroke=\"black\" fill=\"white\" stroke-width=\"1\" /><text x=\"1030.68849609375\" y=\"175.0\" dominant-baseline=\"middle\" text-anchor=\"middle\" font-size=\"14px\" font-family=\"Arial:style=normal:variant=normal:weight=normal:stretch=normal:size=10.0\">iSwap^0.5</text><rect x=\"994.3526953125\" y=\"205.0\" width=\"72.6716015625\" height=\"40\" stroke=\"black\" fill=\"white\" stroke-width=\"1\" /><text x=\"1030.68849609375\" y=\"225.0\" dominant-baseline=\"middle\" text-anchor=\"middle\" font-size=\"14px\" font-family=\"Arial:style=normal:variant=normal:weight=normal:stretch=normal:size=10.0\">Rz(π)</text><rect x=\"1087.0242968750001\" y=\"5.0\" width=\"72.6716015625\" height=\"40\" stroke=\"black\" fill=\"white\" stroke-width=\"1\" /><text x=\"1123.3600976562502\" y=\"25.0\" dominant-baseline=\"middle\" text-anchor=\"middle\" font-size=\"14px\" font-family=\"Arial:style=normal:variant=normal:weight=normal:stretch=normal:size=10.0\">iSwap</text><rect x=\"1087.0242968750001\" y=\"55.0\" width=\"72.6716015625\" height=\"40\" stroke=\"black\" fill=\"white\" stroke-width=\"1\" /><text x=\"1123.3600976562502\" y=\"75.0\" dominant-baseline=\"middle\" text-anchor=\"middle\" font-size=\"14px\" font-family=\"Arial:style=normal:variant=normal:weight=normal:stretch=normal:size=10.0\">iSwap^0.5</text><rect x=\"1087.0242968750001\" y=\"105.0\" width=\"72.6716015625\" height=\"40\" stroke=\"black\" fill=\"white\" stroke-width=\"1\" /><text x=\"1123.3600976562502\" y=\"125.0\" dominant-baseline=\"middle\" text-anchor=\"middle\" font-size=\"14px\" font-family=\"Arial:style=normal:variant=normal:weight=normal:stretch=normal:size=10.0\">Rz(π)</text><rect x=\"1087.0242968750001\" y=\"155.0\" width=\"72.6716015625\" height=\"40\" stroke=\"black\" fill=\"white\" stroke-width=\"1\" /><text x=\"1123.3600976562502\" y=\"175.0\" dominant-baseline=\"middle\" text-anchor=\"middle\" font-size=\"14px\" font-family=\"Arial:style=normal:variant=normal:weight=normal:stretch=normal:size=10.0\">iSwap</text><rect x=\"1087.0242968750001\" y=\"205.0\" width=\"72.6716015625\" height=\"40\" stroke=\"black\" fill=\"white\" stroke-width=\"1\" /><text x=\"1123.3600976562502\" y=\"225.0\" dominant-baseline=\"middle\" text-anchor=\"middle\" font-size=\"14px\" font-family=\"Arial:style=normal:variant=normal:weight=normal:stretch=normal:size=10.0\">iSwap^0.5</text><rect x=\"1179.6958984375\" y=\"5.0\" width=\"72.6716015625\" height=\"40\" stroke=\"black\" fill=\"white\" stroke-width=\"1\" /><text x=\"1216.0316992187502\" y=\"25.0\" dominant-baseline=\"middle\" text-anchor=\"middle\" font-size=\"14px\" font-family=\"Arial:style=normal:variant=normal:weight=normal:stretch=normal:size=10.0\">Rz(π)</text><rect x=\"1179.6958984375\" y=\"55.0\" width=\"72.6716015625\" height=\"40\" stroke=\"black\" fill=\"white\" stroke-width=\"1\" /><text x=\"1216.0316992187502\" y=\"75.0\" dominant-baseline=\"middle\" text-anchor=\"middle\" font-size=\"14px\" font-family=\"Arial:style=normal:variant=normal:weight=normal:stretch=normal:size=10.0\">iSwap</text><rect x=\"1179.6958984375\" y=\"105.0\" width=\"72.6716015625\" height=\"40\" stroke=\"black\" fill=\"white\" stroke-width=\"1\" /><text x=\"1216.0316992187502\" y=\"125.0\" dominant-baseline=\"middle\" text-anchor=\"middle\" font-size=\"14px\" font-family=\"Arial:style=normal:variant=normal:weight=normal:stretch=normal:size=10.0\">iSwap^0.5</text><rect x=\"1179.6958984375\" y=\"155.0\" width=\"72.6716015625\" height=\"40\" stroke=\"black\" fill=\"white\" stroke-width=\"1\" /><text x=\"1216.0316992187502\" y=\"175.0\" dominant-baseline=\"middle\" text-anchor=\"middle\" font-size=\"14px\" font-family=\"Arial:style=normal:variant=normal:weight=normal:stretch=normal:size=10.0\">Rz(1.5π)</text><rect x=\"1179.6958984375\" y=\"205.0\" width=\"72.6716015625\" height=\"40\" stroke=\"black\" fill=\"white\" stroke-width=\"1\" /><text x=\"1216.0316992187502\" y=\"225.0\" dominant-baseline=\"middle\" text-anchor=\"middle\" font-size=\"14px\" font-family=\"Arial:style=normal:variant=normal:weight=normal:stretch=normal:size=10.0\">Rz(-0.5π)</text><rect x=\"1272.3675\" y=\"55.0\" width=\"72.6716015625\" height=\"40\" stroke=\"black\" fill=\"white\" stroke-width=\"1\" /><text x=\"1308.7033007812502\" y=\"75.0\" dominant-baseline=\"middle\" text-anchor=\"middle\" font-size=\"14px\" font-family=\"Arial:style=normal:variant=normal:weight=normal:stretch=normal:size=10.0\">Rz(1.5π)</text><rect x=\"1272.3675\" y=\"105.0\" width=\"72.6716015625\" height=\"40\" stroke=\"black\" fill=\"white\" stroke-width=\"1\" /><text x=\"1308.7033007812502\" y=\"125.0\" dominant-baseline=\"middle\" text-anchor=\"middle\" font-size=\"14px\" font-family=\"Arial:style=normal:variant=normal:weight=normal:stretch=normal:size=10.0\">Rz(-0.5π)</text><rect x=\"1272.3675\" y=\"155.0\" width=\"72.6716015625\" height=\"40\" stroke=\"black\" fill=\"white\" stroke-width=\"1\" /><text x=\"1308.7033007812502\" y=\"175.0\" dominant-baseline=\"middle\" text-anchor=\"middle\" font-size=\"14px\" font-family=\"Arial:style=normal:variant=normal:weight=normal:stretch=normal:size=10.0\">iSwap</text><rect x=\"1272.3675\" y=\"205.0\" width=\"72.6716015625\" height=\"40\" stroke=\"black\" fill=\"white\" stroke-width=\"1\" /><text x=\"1308.7033007812502\" y=\"225.0\" dominant-baseline=\"middle\" text-anchor=\"middle\" font-size=\"14px\" font-family=\"Arial:style=normal:variant=normal:weight=normal:stretch=normal:size=10.0\">iSwap^0.5</text><rect x=\"1365.0391015625\" y=\"55.0\" width=\"72.6716015625\" height=\"40\" stroke=\"black\" fill=\"white\" stroke-width=\"1\" /><text x=\"1401.3749023437501\" y=\"75.0\" dominant-baseline=\"middle\" text-anchor=\"middle\" font-size=\"14px\" font-family=\"Arial:style=normal:variant=normal:weight=normal:stretch=normal:size=10.0\">iSwap</text><rect x=\"1365.0391015625\" y=\"105.0\" width=\"72.6716015625\" height=\"40\" stroke=\"black\" fill=\"white\" stroke-width=\"1\" /><text x=\"1401.3749023437501\" y=\"125.0\" dominant-baseline=\"middle\" text-anchor=\"middle\" font-size=\"14px\" font-family=\"Arial:style=normal:variant=normal:weight=normal:stretch=normal:size=10.0\">iSwap^0.5</text><rect x=\"1365.0391015625\" y=\"155.0\" width=\"72.6716015625\" height=\"40\" stroke=\"black\" fill=\"white\" stroke-width=\"1\" /><text x=\"1401.3749023437501\" y=\"175.0\" dominant-baseline=\"middle\" text-anchor=\"middle\" font-size=\"14px\" font-family=\"Arial:style=normal:variant=normal:weight=normal:stretch=normal:size=10.0\">Rz(π)</text><rect x=\"1457.710703125\" y=\"55.0\" width=\"44.487578125\" height=\"40\" stroke=\"black\" fill=\"white\" stroke-width=\"1\" /><text x=\"1479.9544921875\" y=\"75.0\" dominant-baseline=\"middle\" text-anchor=\"middle\" font-size=\"14px\" font-family=\"Arial:style=normal:variant=normal:weight=normal:stretch=normal:size=10.0\">Rz(π)</text></svg>"
      ],
      "text/plain": [
       "<cirq.contrib.svg.svg.SVGCircuit at 0x7fdda7964bf0>"
      ]
     },
     "execution_count": 13,
     "metadata": {},
     "output_type": "execute_result"
    }
   ],
   "source": [
    "SVGCircuit(circuits[0])"
   ]
  },
  {
   "cell_type": "markdown",
   "id": "efe6df8f-ba9f-4814-a360-43671e428de8",
   "metadata": {},
   "source": [
    "**Tomamos los 3 circuitos anteriores, y les agregamos Gates para medir** el valor esperado de Z en cada qubit. Además, al aplicar rotaciones en Z, se diagonaliza la representación de XX + YY, y podemos medir en la base computacional y calcular los elementos que necesitamos como diferencias de Z."
   ]
  },
  {
   "cell_type": "code",
   "execution_count": 14,
   "id": "b2b7f001-c356-4d0d-a962-c5f8a2818d8b",
   "metadata": {},
   "outputs": [],
   "source": [
    "def generate_measurment_circuits(qubits,circuits):\n",
    "    # Pares de qubits\n",
    "    even_pairs = [qubits[idx:idx + 2] for idx in np.arange(0, n_qubits - 1, 2)]\n",
    "    odd_pairs  = [qubits[idx:idx + 2] for idx in np.arange(1, n_qubits - 1, 2)]\n",
    "    \n",
    "    # Diccionario con los circuitos para las cantidades a medir\n",
    "    measure_labels = ['z', 'xy_even', 'xy_odd']\n",
    "    all_circuits_with_measurements = {label: {} for label in measure_labels}\n",
    "    for circuit_index in range(len(circuits)):\n",
    "        for _, label in enumerate(measure_labels):\n",
    "            circuit = deepcopy(circuits[circuit_index])\n",
    "            if label == 'xy_even':\n",
    "                all_ops = []\n",
    "                for a, b in even_pairs: \n",
    "                    all_ops += [\n",
    "                        cirq.rz(-np.pi * 0.25).on(a),\n",
    "                        cirq.rz(np.pi * 0.25).on(b),\n",
    "                        cirq.ISWAP.on(a, b)**0.5\n",
    "                    ]\n",
    "                circuit.append(all_ops,strategy=cirq.InsertStrategy.EARLIEST)\n",
    "            if label == 'xy_odd':\n",
    "                all_ops = []\n",
    "                for a, b in odd_pairs: \n",
    "                    all_ops += [\n",
    "                        cirq.rz(-np.pi * 0.25).on(a),\n",
    "                        cirq.rz(np.pi * 0.25).on(b),\n",
    "                        cirq.ISWAP.on(a, b)**0.5\n",
    "                    ]\n",
    "                circuit.append(all_ops,strategy=cirq.InsertStrategy.EARLIEST)\n",
    "            circuit.append(cirq.Moment([cirq.measure(q) for q in qubits]))\n",
    "            all_circuits_with_measurements[label][circuit_index] = circuit\n",
    "    circuits_dict = all_circuits_with_measurements\n",
    "    \n",
    "    return circuits_dict\n",
    "    \n",
    "circuits_dict = generate_measurment_circuits(qubits,circuits)"
   ]
  },
  {
   "cell_type": "markdown",
   "id": "82ec2689-65c7-459b-bf5c-d1cd217d4e6a",
   "metadata": {},
   "source": [
    "**Visualizamos un circuito con medición**, por ejemplo, el de Z para la permutación 0. También tenemos:\n",
    "```\n",
    "SVGCircuit(circuits_dict[\"z\"][0])\n",
    "SVGCircuit(circuits_dict[\"xy_even\"][0])\n",
    "SVGCircuit(circuits_dict[\"xy_odd\"][0])\n",
    "```"
   ]
  },
  {
   "cell_type": "code",
   "execution_count": 15,
   "id": "90d20317-cb0b-416a-9508-5f3c106b3d71",
   "metadata": {},
   "outputs": [
    {
     "data": {
      "image/svg+xml": [
       "<svg xmlns=\"http://www.w3.org/2000/svg\" width=\"1612.19828125\" height=\"300.0\"><line x1=\"32.246796875\" x2=\"1582.19828125\" y1=\"25.0\" y2=\"25.0\" stroke=\"#1967d2\" stroke-width=\"1\" /><line x1=\"32.246796875\" x2=\"1582.19828125\" y1=\"75.0\" y2=\"75.0\" stroke=\"#1967d2\" stroke-width=\"1\" /><line x1=\"32.246796875\" x2=\"1582.19828125\" y1=\"125.0\" y2=\"125.0\" stroke=\"#1967d2\" stroke-width=\"1\" /><line x1=\"32.246796875\" x2=\"1582.19828125\" y1=\"175.0\" y2=\"175.0\" stroke=\"#1967d2\" stroke-width=\"1\" /><line x1=\"32.246796875\" x2=\"1582.19828125\" y1=\"225.0\" y2=\"225.0\" stroke=\"#1967d2\" stroke-width=\"1\" /><line x1=\"32.246796875\" x2=\"1582.19828125\" y1=\"275.0\" y2=\"275.0\" stroke=\"#1967d2\" stroke-width=\"1\" /><line x1=\"170.82939453125\" x2=\"170.82939453125\" y1=\"125.0\" y2=\"175.0\" stroke=\"black\" stroke-width=\"3\" /><line x1=\"352.11259765625\" x2=\"352.11259765625\" y1=\"125.0\" y2=\"175.0\" stroke=\"black\" stroke-width=\"3\" /><line x1=\"444.78419921875\" x2=\"444.78419921875\" y1=\"175.0\" y2=\"225.0\" stroke=\"black\" stroke-width=\"3\" /><line x1=\"543.21193359375\" x2=\"543.21193359375\" y1=\"75.0\" y2=\"125.0\" stroke=\"black\" stroke-width=\"3\" /><line x1=\"647.39580078125\" x2=\"647.39580078125\" y1=\"175.0\" y2=\"225.0\" stroke=\"black\" stroke-width=\"3\" /><line x1=\"745.82353515625\" x2=\"745.82353515625\" y1=\"75.0\" y2=\"125.0\" stroke=\"black\" stroke-width=\"3\" /><line x1=\"745.82353515625\" x2=\"745.82353515625\" y1=\"225.0\" y2=\"275.0\" stroke=\"black\" stroke-width=\"3\" /><line x1=\"841.92021484375\" x2=\"841.92021484375\" y1=\"125.0\" y2=\"175.0\" stroke=\"black\" stroke-width=\"3\" /><line x1=\"938.01689453125\" x2=\"938.01689453125\" y1=\"25.0\" y2=\"75.0\" stroke=\"black\" stroke-width=\"3\" /><line x1=\"938.01689453125\" x2=\"938.01689453125\" y1=\"225.0\" y2=\"275.0\" stroke=\"black\" stroke-width=\"3\" /><line x1=\"1030.68849609375\" x2=\"1030.68849609375\" y1=\"125.0\" y2=\"175.0\" stroke=\"black\" stroke-width=\"3\" /><line x1=\"1123.3600976562502\" x2=\"1123.3600976562502\" y1=\"25.0\" y2=\"75.0\" stroke=\"black\" stroke-width=\"3\" /><line x1=\"1123.3600976562502\" x2=\"1123.3600976562502\" y1=\"175.0\" y2=\"225.0\" stroke=\"black\" stroke-width=\"3\" /><line x1=\"1216.0316992187502\" x2=\"1216.0316992187502\" y1=\"75.0\" y2=\"125.0\" stroke=\"black\" stroke-width=\"3\" /><line x1=\"1308.7033007812502\" x2=\"1308.7033007812502\" y1=\"175.0\" y2=\"225.0\" stroke=\"black\" stroke-width=\"3\" /><line x1=\"1401.3749023437501\" x2=\"1401.3749023437501\" y1=\"75.0\" y2=\"125.0\" stroke=\"black\" stroke-width=\"3\" /><rect x=\"10.0\" y=\"5.0\" width=\"44.49359375\" height=\"40\" stroke=\"black\" fill=\"white\" stroke-width=\"0\" /><text x=\"32.246796875\" y=\"25.0\" dominant-baseline=\"middle\" text-anchor=\"middle\" font-size=\"14px\" font-family=\"Arial:style=normal:variant=normal:weight=normal:stretch=normal:size=10.0\">(0, 0): </text><rect x=\"10.0\" y=\"55.0\" width=\"44.49359375\" height=\"40\" stroke=\"black\" fill=\"white\" stroke-width=\"0\" /><text x=\"32.246796875\" y=\"75.0\" dominant-baseline=\"middle\" text-anchor=\"middle\" font-size=\"14px\" font-family=\"Arial:style=normal:variant=normal:weight=normal:stretch=normal:size=10.0\">(0, 1): </text><rect x=\"10.0\" y=\"105.0\" width=\"44.49359375\" height=\"40\" stroke=\"black\" fill=\"white\" stroke-width=\"0\" /><text x=\"32.246796875\" y=\"125.0\" dominant-baseline=\"middle\" text-anchor=\"middle\" font-size=\"14px\" font-family=\"Arial:style=normal:variant=normal:weight=normal:stretch=normal:size=10.0\">(0, 2): </text><rect x=\"10.0\" y=\"155.0\" width=\"44.49359375\" height=\"40\" stroke=\"black\" fill=\"white\" stroke-width=\"0\" /><text x=\"32.246796875\" y=\"175.0\" dominant-baseline=\"middle\" text-anchor=\"middle\" font-size=\"14px\" font-family=\"Arial:style=normal:variant=normal:weight=normal:stretch=normal:size=10.0\">(0, 3): </text><rect x=\"10.0\" y=\"205.0\" width=\"44.49359375\" height=\"40\" stroke=\"black\" fill=\"white\" stroke-width=\"0\" /><text x=\"32.246796875\" y=\"225.0\" dominant-baseline=\"middle\" text-anchor=\"middle\" font-size=\"14px\" font-family=\"Arial:style=normal:variant=normal:weight=normal:stretch=normal:size=10.0\">(0, 4): </text><rect x=\"10.0\" y=\"255.0\" width=\"44.49359375\" height=\"40\" stroke=\"black\" fill=\"white\" stroke-width=\"0\" /><text x=\"32.246796875\" y=\"275.0\" dominant-baseline=\"middle\" text-anchor=\"middle\" font-size=\"14px\" font-family=\"Arial:style=normal:variant=normal:weight=normal:stretch=normal:size=10.0\">(0, 5): </text><rect x=\"74.49359375\" y=\"5.0\" width=\"40\" height=\"40\" stroke=\"black\" fill=\"white\" stroke-width=\"1\" /><text x=\"94.49359375\" y=\"25.0\" dominant-baseline=\"middle\" text-anchor=\"middle\" font-size=\"18px\" font-family=\"Arial:style=normal:variant=normal:weight=normal:stretch=normal:size=10.0\">X</text><rect x=\"74.49359375\" y=\"55.0\" width=\"40\" height=\"40\" stroke=\"black\" fill=\"white\" stroke-width=\"1\" /><text x=\"94.49359375\" y=\"75.0\" dominant-baseline=\"middle\" text-anchor=\"middle\" font-size=\"18px\" font-family=\"Arial:style=normal:variant=normal:weight=normal:stretch=normal:size=10.0\">X</text><rect x=\"74.49359375\" y=\"105.0\" width=\"40\" height=\"40\" stroke=\"black\" fill=\"white\" stroke-width=\"1\" /><text x=\"94.49359375\" y=\"125.0\" dominant-baseline=\"middle\" text-anchor=\"middle\" font-size=\"18px\" font-family=\"Arial:style=normal:variant=normal:weight=normal:stretch=normal:size=10.0\">X</text><rect x=\"134.49359375\" y=\"105.0\" width=\"72.6716015625\" height=\"40\" stroke=\"black\" fill=\"white\" stroke-width=\"1\" /><text x=\"170.82939453125\" y=\"125.0\" dominant-baseline=\"middle\" text-anchor=\"middle\" font-size=\"14px\" font-family=\"Arial:style=normal:variant=normal:weight=normal:stretch=normal:size=10.0\">iSwap</text><rect x=\"134.49359375\" y=\"155.0\" width=\"72.6716015625\" height=\"40\" stroke=\"black\" fill=\"white\" stroke-width=\"1\" /><text x=\"170.82939453125\" y=\"175.0\" dominant-baseline=\"middle\" text-anchor=\"middle\" font-size=\"14px\" font-family=\"Arial:style=normal:variant=normal:weight=normal:stretch=normal:size=10.0\">iSwap^0.5</text><rect x=\"227.16519531249997\" y=\"105.0\" width=\"68.6116015625\" height=\"40\" stroke=\"black\" fill=\"white\" stroke-width=\"1\" /><text x=\"261.47099609375\" y=\"125.0\" dominant-baseline=\"middle\" text-anchor=\"middle\" font-size=\"14px\" font-family=\"Arial:style=normal:variant=normal:weight=normal:stretch=normal:size=10.0\">Rz(1.5π)</text><rect x=\"227.16519531249997\" y=\"155.0\" width=\"68.6116015625\" height=\"40\" stroke=\"black\" fill=\"white\" stroke-width=\"1\" /><text x=\"261.47099609375\" y=\"175.0\" dominant-baseline=\"middle\" text-anchor=\"middle\" font-size=\"14px\" font-family=\"Arial:style=normal:variant=normal:weight=normal:stretch=normal:size=10.0\">Rz(-0.5π)</text><rect x=\"315.776796875\" y=\"105.0\" width=\"72.6716015625\" height=\"40\" stroke=\"black\" fill=\"white\" stroke-width=\"1\" /><text x=\"352.11259765625\" y=\"125.0\" dominant-baseline=\"middle\" text-anchor=\"middle\" font-size=\"14px\" font-family=\"Arial:style=normal:variant=normal:weight=normal:stretch=normal:size=10.0\">iSwap</text><rect x=\"315.776796875\" y=\"155.0\" width=\"72.6716015625\" height=\"40\" stroke=\"black\" fill=\"white\" stroke-width=\"1\" /><text x=\"352.11259765625\" y=\"175.0\" dominant-baseline=\"middle\" text-anchor=\"middle\" font-size=\"14px\" font-family=\"Arial:style=normal:variant=normal:weight=normal:stretch=normal:size=10.0\">iSwap^0.5</text><rect x=\"408.44839843750003\" y=\"105.0\" width=\"72.6716015625\" height=\"40\" stroke=\"black\" fill=\"white\" stroke-width=\"1\" /><text x=\"444.78419921875\" y=\"125.0\" dominant-baseline=\"middle\" text-anchor=\"middle\" font-size=\"14px\" font-family=\"Arial:style=normal:variant=normal:weight=normal:stretch=normal:size=10.0\">Rz(π)</text><rect x=\"408.44839843750003\" y=\"155.0\" width=\"72.6716015625\" height=\"40\" stroke=\"black\" fill=\"white\" stroke-width=\"1\" /><text x=\"444.78419921875\" y=\"175.0\" dominant-baseline=\"middle\" text-anchor=\"middle\" font-size=\"14px\" font-family=\"Arial:style=normal:variant=normal:weight=normal:stretch=normal:size=10.0\">iSwap</text><rect x=\"408.44839843750003\" y=\"205.0\" width=\"72.6716015625\" height=\"40\" stroke=\"black\" fill=\"white\" stroke-width=\"1\" /><text x=\"444.78419921875\" y=\"225.0\" dominant-baseline=\"middle\" text-anchor=\"middle\" font-size=\"14px\" font-family=\"Arial:style=normal:variant=normal:weight=normal:stretch=normal:size=10.0\">iSwap^0.5</text><rect x=\"501.12\" y=\"55.0\" width=\"84.18386718750001\" height=\"40\" stroke=\"black\" fill=\"white\" stroke-width=\"1\" /><text x=\"543.21193359375\" y=\"75.0\" dominant-baseline=\"middle\" text-anchor=\"middle\" font-size=\"14px\" font-family=\"Arial:style=normal:variant=normal:weight=normal:stretch=normal:size=10.0\">iSwap</text><rect x=\"501.12\" y=\"105.0\" width=\"84.18386718750001\" height=\"40\" stroke=\"black\" fill=\"white\" stroke-width=\"1\" /><text x=\"543.21193359375\" y=\"125.0\" dominant-baseline=\"middle\" text-anchor=\"middle\" font-size=\"14px\" font-family=\"Arial:style=normal:variant=normal:weight=normal:stretch=normal:size=10.0\">iSwap^0.5</text><rect x=\"501.12\" y=\"155.0\" width=\"84.18386718750001\" height=\"40\" stroke=\"black\" fill=\"white\" stroke-width=\"1\" /><text x=\"543.21193359375\" y=\"175.0\" dominant-baseline=\"middle\" text-anchor=\"middle\" font-size=\"14px\" font-family=\"Arial:style=normal:variant=normal:weight=normal:stretch=normal:size=10.0\">Rz(1.16π)</text><rect x=\"501.12\" y=\"205.0\" width=\"84.18386718750001\" height=\"40\" stroke=\"black\" fill=\"white\" stroke-width=\"1\" /><text x=\"543.21193359375\" y=\"225.0\" dominant-baseline=\"middle\" text-anchor=\"middle\" font-size=\"14px\" font-family=\"Arial:style=normal:variant=normal:weight=normal:stretch=normal:size=10.0\">Rz(-0.164π)</text><rect x=\"605.3038671875\" y=\"55.0\" width=\"84.18386718750001\" height=\"40\" stroke=\"black\" fill=\"white\" stroke-width=\"1\" /><text x=\"647.39580078125\" y=\"75.0\" dominant-baseline=\"middle\" text-anchor=\"middle\" font-size=\"14px\" font-family=\"Arial:style=normal:variant=normal:weight=normal:stretch=normal:size=10.0\">Rz(1.13π)</text><rect x=\"605.3038671875\" y=\"105.0\" width=\"84.18386718750001\" height=\"40\" stroke=\"black\" fill=\"white\" stroke-width=\"1\" /><text x=\"647.39580078125\" y=\"125.0\" dominant-baseline=\"middle\" text-anchor=\"middle\" font-size=\"14px\" font-family=\"Arial:style=normal:variant=normal:weight=normal:stretch=normal:size=10.0\">Rz(-0.133π)</text><rect x=\"605.3038671875\" y=\"155.0\" width=\"84.18386718750001\" height=\"40\" stroke=\"black\" fill=\"white\" stroke-width=\"1\" /><text x=\"647.39580078125\" y=\"175.0\" dominant-baseline=\"middle\" text-anchor=\"middle\" font-size=\"14px\" font-family=\"Arial:style=normal:variant=normal:weight=normal:stretch=normal:size=10.0\">iSwap</text><rect x=\"605.3038671875\" y=\"205.0\" width=\"84.18386718750001\" height=\"40\" stroke=\"black\" fill=\"white\" stroke-width=\"1\" /><text x=\"647.39580078125\" y=\"225.0\" dominant-baseline=\"middle\" text-anchor=\"middle\" font-size=\"14px\" font-family=\"Arial:style=normal:variant=normal:weight=normal:stretch=normal:size=10.0\">iSwap^0.5</text><rect x=\"709.4877343750001\" y=\"55.0\" width=\"72.6716015625\" height=\"40\" stroke=\"black\" fill=\"white\" stroke-width=\"1\" /><text x=\"745.82353515625\" y=\"75.0\" dominant-baseline=\"middle\" text-anchor=\"middle\" font-size=\"14px\" font-family=\"Arial:style=normal:variant=normal:weight=normal:stretch=normal:size=10.0\">iSwap</text><rect x=\"709.4877343750001\" y=\"105.0\" width=\"72.6716015625\" height=\"40\" stroke=\"black\" fill=\"white\" stroke-width=\"1\" /><text x=\"745.82353515625\" y=\"125.0\" dominant-baseline=\"middle\" text-anchor=\"middle\" font-size=\"14px\" font-family=\"Arial:style=normal:variant=normal:weight=normal:stretch=normal:size=10.0\">iSwap^0.5</text><rect x=\"709.4877343750001\" y=\"155.0\" width=\"72.6716015625\" height=\"40\" stroke=\"black\" fill=\"white\" stroke-width=\"1\" /><text x=\"745.82353515625\" y=\"175.0\" dominant-baseline=\"middle\" text-anchor=\"middle\" font-size=\"14px\" font-family=\"Arial:style=normal:variant=normal:weight=normal:stretch=normal:size=10.0\">Rz(π)</text><rect x=\"709.4877343750001\" y=\"205.0\" width=\"72.6716015625\" height=\"40\" stroke=\"black\" fill=\"white\" stroke-width=\"1\" /><text x=\"745.82353515625\" y=\"225.0\" dominant-baseline=\"middle\" text-anchor=\"middle\" font-size=\"14px\" font-family=\"Arial:style=normal:variant=normal:weight=normal:stretch=normal:size=10.0\">iSwap</text><rect x=\"709.4877343750001\" y=\"255.0\" width=\"72.6716015625\" height=\"40\" stroke=\"black\" fill=\"white\" stroke-width=\"1\" /><text x=\"745.82353515625\" y=\"275.0\" dominant-baseline=\"middle\" text-anchor=\"middle\" font-size=\"14px\" font-family=\"Arial:style=normal:variant=normal:weight=normal:stretch=normal:size=10.0\">iSwap^0.5</text><rect x=\"802.1593359375\" y=\"55.0\" width=\"79.5217578125\" height=\"40\" stroke=\"black\" fill=\"white\" stroke-width=\"1\" /><text x=\"841.92021484375\" y=\"75.0\" dominant-baseline=\"middle\" text-anchor=\"middle\" font-size=\"14px\" font-family=\"Arial:style=normal:variant=normal:weight=normal:stretch=normal:size=10.0\">Rz(π)</text><rect x=\"802.1593359375\" y=\"105.0\" width=\"79.5217578125\" height=\"40\" stroke=\"black\" fill=\"white\" stroke-width=\"1\" /><text x=\"841.92021484375\" y=\"125.0\" dominant-baseline=\"middle\" text-anchor=\"middle\" font-size=\"14px\" font-family=\"Arial:style=normal:variant=normal:weight=normal:stretch=normal:size=10.0\">iSwap</text><rect x=\"802.1593359375\" y=\"155.0\" width=\"79.5217578125\" height=\"40\" stroke=\"black\" fill=\"white\" stroke-width=\"1\" /><text x=\"841.92021484375\" y=\"175.0\" dominant-baseline=\"middle\" text-anchor=\"middle\" font-size=\"14px\" font-family=\"Arial:style=normal:variant=normal:weight=normal:stretch=normal:size=10.0\">iSwap^0.5</text><rect x=\"802.1593359375\" y=\"205.0\" width=\"79.5217578125\" height=\"40\" stroke=\"black\" fill=\"white\" stroke-width=\"1\" /><text x=\"841.92021484375\" y=\"225.0\" dominant-baseline=\"middle\" text-anchor=\"middle\" font-size=\"14px\" font-family=\"Arial:style=normal:variant=normal:weight=normal:stretch=normal:size=10.0\">Rz(0.847π)</text><rect x=\"802.1593359375\" y=\"255.0\" width=\"79.5217578125\" height=\"40\" stroke=\"black\" fill=\"white\" stroke-width=\"1\" /><text x=\"841.92021484375\" y=\"275.0\" dominant-baseline=\"middle\" text-anchor=\"middle\" font-size=\"14px\" font-family=\"Arial:style=normal:variant=normal:weight=normal:stretch=normal:size=10.0\">Rz(0.153π)</text><rect x=\"901.6810937500001\" y=\"5.0\" width=\"72.6716015625\" height=\"40\" stroke=\"black\" fill=\"white\" stroke-width=\"1\" /><text x=\"938.01689453125\" y=\"25.0\" dominant-baseline=\"middle\" text-anchor=\"middle\" font-size=\"14px\" font-family=\"Arial:style=normal:variant=normal:weight=normal:stretch=normal:size=10.0\">iSwap</text><rect x=\"901.6810937500001\" y=\"55.0\" width=\"72.6716015625\" height=\"40\" stroke=\"black\" fill=\"white\" stroke-width=\"1\" /><text x=\"938.01689453125\" y=\"75.0\" dominant-baseline=\"middle\" text-anchor=\"middle\" font-size=\"14px\" font-family=\"Arial:style=normal:variant=normal:weight=normal:stretch=normal:size=10.0\">iSwap^0.5</text><rect x=\"901.6810937500001\" y=\"105.0\" width=\"72.6716015625\" height=\"40\" stroke=\"black\" fill=\"white\" stroke-width=\"1\" /><text x=\"938.01689453125\" y=\"125.0\" dominant-baseline=\"middle\" text-anchor=\"middle\" font-size=\"14px\" font-family=\"Arial:style=normal:variant=normal:weight=normal:stretch=normal:size=10.0\">Rz(1.5π)</text><rect x=\"901.6810937500001\" y=\"155.0\" width=\"72.6716015625\" height=\"40\" stroke=\"black\" fill=\"white\" stroke-width=\"1\" /><text x=\"938.01689453125\" y=\"175.0\" dominant-baseline=\"middle\" text-anchor=\"middle\" font-size=\"14px\" font-family=\"Arial:style=normal:variant=normal:weight=normal:stretch=normal:size=10.0\">Rz(-0.5π)</text><rect x=\"901.6810937500001\" y=\"205.0\" width=\"72.6716015625\" height=\"40\" stroke=\"black\" fill=\"white\" stroke-width=\"1\" /><text x=\"938.01689453125\" y=\"225.0\" dominant-baseline=\"middle\" text-anchor=\"middle\" font-size=\"14px\" font-family=\"Arial:style=normal:variant=normal:weight=normal:stretch=normal:size=10.0\">iSwap</text><rect x=\"901.6810937500001\" y=\"255.0\" width=\"72.6716015625\" height=\"40\" stroke=\"black\" fill=\"white\" stroke-width=\"1\" /><text x=\"938.01689453125\" y=\"275.0\" dominant-baseline=\"middle\" text-anchor=\"middle\" font-size=\"14px\" font-family=\"Arial:style=normal:variant=normal:weight=normal:stretch=normal:size=10.0\">iSwap^0.5</text><rect x=\"994.3526953125\" y=\"5.0\" width=\"72.6716015625\" height=\"40\" stroke=\"black\" fill=\"white\" stroke-width=\"1\" /><text x=\"1030.68849609375\" y=\"25.0\" dominant-baseline=\"middle\" text-anchor=\"middle\" font-size=\"14px\" font-family=\"Arial:style=normal:variant=normal:weight=normal:stretch=normal:size=10.0\">Rz(0.99π)</text><rect x=\"994.3526953125\" y=\"55.0\" width=\"72.6716015625\" height=\"40\" stroke=\"black\" fill=\"white\" stroke-width=\"1\" /><text x=\"1030.68849609375\" y=\"75.0\" dominant-baseline=\"middle\" text-anchor=\"middle\" font-size=\"14px\" font-family=\"Arial:style=normal:variant=normal:weight=normal:stretch=normal:size=10.0\">Rz(0.01π)</text><rect x=\"994.3526953125\" y=\"105.0\" width=\"72.6716015625\" height=\"40\" stroke=\"black\" fill=\"white\" stroke-width=\"1\" /><text x=\"1030.68849609375\" y=\"125.0\" dominant-baseline=\"middle\" text-anchor=\"middle\" font-size=\"14px\" font-family=\"Arial:style=normal:variant=normal:weight=normal:stretch=normal:size=10.0\">iSwap</text><rect x=\"994.3526953125\" y=\"155.0\" width=\"72.6716015625\" height=\"40\" stroke=\"black\" fill=\"white\" stroke-width=\"1\" /><text x=\"1030.68849609375\" y=\"175.0\" dominant-baseline=\"middle\" text-anchor=\"middle\" font-size=\"14px\" font-family=\"Arial:style=normal:variant=normal:weight=normal:stretch=normal:size=10.0\">iSwap^0.5</text><rect x=\"994.3526953125\" y=\"205.0\" width=\"72.6716015625\" height=\"40\" stroke=\"black\" fill=\"white\" stroke-width=\"1\" /><text x=\"1030.68849609375\" y=\"225.0\" dominant-baseline=\"middle\" text-anchor=\"middle\" font-size=\"14px\" font-family=\"Arial:style=normal:variant=normal:weight=normal:stretch=normal:size=10.0\">Rz(π)</text><rect x=\"1087.0242968750001\" y=\"5.0\" width=\"72.6716015625\" height=\"40\" stroke=\"black\" fill=\"white\" stroke-width=\"1\" /><text x=\"1123.3600976562502\" y=\"25.0\" dominant-baseline=\"middle\" text-anchor=\"middle\" font-size=\"14px\" font-family=\"Arial:style=normal:variant=normal:weight=normal:stretch=normal:size=10.0\">iSwap</text><rect x=\"1087.0242968750001\" y=\"55.0\" width=\"72.6716015625\" height=\"40\" stroke=\"black\" fill=\"white\" stroke-width=\"1\" /><text x=\"1123.3600976562502\" y=\"75.0\" dominant-baseline=\"middle\" text-anchor=\"middle\" font-size=\"14px\" font-family=\"Arial:style=normal:variant=normal:weight=normal:stretch=normal:size=10.0\">iSwap^0.5</text><rect x=\"1087.0242968750001\" y=\"105.0\" width=\"72.6716015625\" height=\"40\" stroke=\"black\" fill=\"white\" stroke-width=\"1\" /><text x=\"1123.3600976562502\" y=\"125.0\" dominant-baseline=\"middle\" text-anchor=\"middle\" font-size=\"14px\" font-family=\"Arial:style=normal:variant=normal:weight=normal:stretch=normal:size=10.0\">Rz(π)</text><rect x=\"1087.0242968750001\" y=\"155.0\" width=\"72.6716015625\" height=\"40\" stroke=\"black\" fill=\"white\" stroke-width=\"1\" /><text x=\"1123.3600976562502\" y=\"175.0\" dominant-baseline=\"middle\" text-anchor=\"middle\" font-size=\"14px\" font-family=\"Arial:style=normal:variant=normal:weight=normal:stretch=normal:size=10.0\">iSwap</text><rect x=\"1087.0242968750001\" y=\"205.0\" width=\"72.6716015625\" height=\"40\" stroke=\"black\" fill=\"white\" stroke-width=\"1\" /><text x=\"1123.3600976562502\" y=\"225.0\" dominant-baseline=\"middle\" text-anchor=\"middle\" font-size=\"14px\" font-family=\"Arial:style=normal:variant=normal:weight=normal:stretch=normal:size=10.0\">iSwap^0.5</text><rect x=\"1179.6958984375\" y=\"5.0\" width=\"72.6716015625\" height=\"40\" stroke=\"black\" fill=\"white\" stroke-width=\"1\" /><text x=\"1216.0316992187502\" y=\"25.0\" dominant-baseline=\"middle\" text-anchor=\"middle\" font-size=\"14px\" font-family=\"Arial:style=normal:variant=normal:weight=normal:stretch=normal:size=10.0\">Rz(π)</text><rect x=\"1179.6958984375\" y=\"55.0\" width=\"72.6716015625\" height=\"40\" stroke=\"black\" fill=\"white\" stroke-width=\"1\" /><text x=\"1216.0316992187502\" y=\"75.0\" dominant-baseline=\"middle\" text-anchor=\"middle\" font-size=\"14px\" font-family=\"Arial:style=normal:variant=normal:weight=normal:stretch=normal:size=10.0\">iSwap</text><rect x=\"1179.6958984375\" y=\"105.0\" width=\"72.6716015625\" height=\"40\" stroke=\"black\" fill=\"white\" stroke-width=\"1\" /><text x=\"1216.0316992187502\" y=\"125.0\" dominant-baseline=\"middle\" text-anchor=\"middle\" font-size=\"14px\" font-family=\"Arial:style=normal:variant=normal:weight=normal:stretch=normal:size=10.0\">iSwap^0.5</text><rect x=\"1179.6958984375\" y=\"155.0\" width=\"72.6716015625\" height=\"40\" stroke=\"black\" fill=\"white\" stroke-width=\"1\" /><text x=\"1216.0316992187502\" y=\"175.0\" dominant-baseline=\"middle\" text-anchor=\"middle\" font-size=\"14px\" font-family=\"Arial:style=normal:variant=normal:weight=normal:stretch=normal:size=10.0\">Rz(1.5π)</text><rect x=\"1179.6958984375\" y=\"205.0\" width=\"72.6716015625\" height=\"40\" stroke=\"black\" fill=\"white\" stroke-width=\"1\" /><text x=\"1216.0316992187502\" y=\"225.0\" dominant-baseline=\"middle\" text-anchor=\"middle\" font-size=\"14px\" font-family=\"Arial:style=normal:variant=normal:weight=normal:stretch=normal:size=10.0\">Rz(-0.5π)</text><rect x=\"1272.3675\" y=\"55.0\" width=\"72.6716015625\" height=\"40\" stroke=\"black\" fill=\"white\" stroke-width=\"1\" /><text x=\"1308.7033007812502\" y=\"75.0\" dominant-baseline=\"middle\" text-anchor=\"middle\" font-size=\"14px\" font-family=\"Arial:style=normal:variant=normal:weight=normal:stretch=normal:size=10.0\">Rz(1.5π)</text><rect x=\"1272.3675\" y=\"105.0\" width=\"72.6716015625\" height=\"40\" stroke=\"black\" fill=\"white\" stroke-width=\"1\" /><text x=\"1308.7033007812502\" y=\"125.0\" dominant-baseline=\"middle\" text-anchor=\"middle\" font-size=\"14px\" font-family=\"Arial:style=normal:variant=normal:weight=normal:stretch=normal:size=10.0\">Rz(-0.5π)</text><rect x=\"1272.3675\" y=\"155.0\" width=\"72.6716015625\" height=\"40\" stroke=\"black\" fill=\"white\" stroke-width=\"1\" /><text x=\"1308.7033007812502\" y=\"175.0\" dominant-baseline=\"middle\" text-anchor=\"middle\" font-size=\"14px\" font-family=\"Arial:style=normal:variant=normal:weight=normal:stretch=normal:size=10.0\">iSwap</text><rect x=\"1272.3675\" y=\"205.0\" width=\"72.6716015625\" height=\"40\" stroke=\"black\" fill=\"white\" stroke-width=\"1\" /><text x=\"1308.7033007812502\" y=\"225.0\" dominant-baseline=\"middle\" text-anchor=\"middle\" font-size=\"14px\" font-family=\"Arial:style=normal:variant=normal:weight=normal:stretch=normal:size=10.0\">iSwap^0.5</text><rect x=\"1365.0391015625\" y=\"55.0\" width=\"72.6716015625\" height=\"40\" stroke=\"black\" fill=\"white\" stroke-width=\"1\" /><text x=\"1401.3749023437501\" y=\"75.0\" dominant-baseline=\"middle\" text-anchor=\"middle\" font-size=\"14px\" font-family=\"Arial:style=normal:variant=normal:weight=normal:stretch=normal:size=10.0\">iSwap</text><rect x=\"1365.0391015625\" y=\"105.0\" width=\"72.6716015625\" height=\"40\" stroke=\"black\" fill=\"white\" stroke-width=\"1\" /><text x=\"1401.3749023437501\" y=\"125.0\" dominant-baseline=\"middle\" text-anchor=\"middle\" font-size=\"14px\" font-family=\"Arial:style=normal:variant=normal:weight=normal:stretch=normal:size=10.0\">iSwap^0.5</text><rect x=\"1365.0391015625\" y=\"155.0\" width=\"72.6716015625\" height=\"40\" stroke=\"black\" fill=\"white\" stroke-width=\"1\" /><text x=\"1401.3749023437501\" y=\"175.0\" dominant-baseline=\"middle\" text-anchor=\"middle\" font-size=\"14px\" font-family=\"Arial:style=normal:variant=normal:weight=normal:stretch=normal:size=10.0\">Rz(π)</text><rect x=\"1457.710703125\" y=\"55.0\" width=\"44.487578125\" height=\"40\" stroke=\"black\" fill=\"white\" stroke-width=\"1\" /><text x=\"1479.9544921875\" y=\"75.0\" dominant-baseline=\"middle\" text-anchor=\"middle\" font-size=\"14px\" font-family=\"Arial:style=normal:variant=normal:weight=normal:stretch=normal:size=10.0\">Rz(π)</text><rect x=\"1522.19828125\" y=\"5.0\" width=\"40\" height=\"40\" stroke=\"black\" fill=\"white\" stroke-width=\"1\" /><text x=\"1542.19828125\" y=\"25.0\" dominant-baseline=\"middle\" text-anchor=\"middle\" font-size=\"18px\" font-family=\"Arial:style=normal:variant=normal:weight=normal:stretch=normal:size=10.0\">M</text><rect x=\"1522.19828125\" y=\"55.0\" width=\"40\" height=\"40\" stroke=\"black\" fill=\"white\" stroke-width=\"1\" /><text x=\"1542.19828125\" y=\"75.0\" dominant-baseline=\"middle\" text-anchor=\"middle\" font-size=\"18px\" font-family=\"Arial:style=normal:variant=normal:weight=normal:stretch=normal:size=10.0\">M</text><rect x=\"1522.19828125\" y=\"105.0\" width=\"40\" height=\"40\" stroke=\"black\" fill=\"white\" stroke-width=\"1\" /><text x=\"1542.19828125\" y=\"125.0\" dominant-baseline=\"middle\" text-anchor=\"middle\" font-size=\"18px\" font-family=\"Arial:style=normal:variant=normal:weight=normal:stretch=normal:size=10.0\">M</text><rect x=\"1522.19828125\" y=\"155.0\" width=\"40\" height=\"40\" stroke=\"black\" fill=\"white\" stroke-width=\"1\" /><text x=\"1542.19828125\" y=\"175.0\" dominant-baseline=\"middle\" text-anchor=\"middle\" font-size=\"18px\" font-family=\"Arial:style=normal:variant=normal:weight=normal:stretch=normal:size=10.0\">M</text><rect x=\"1522.19828125\" y=\"205.0\" width=\"40\" height=\"40\" stroke=\"black\" fill=\"white\" stroke-width=\"1\" /><text x=\"1542.19828125\" y=\"225.0\" dominant-baseline=\"middle\" text-anchor=\"middle\" font-size=\"18px\" font-family=\"Arial:style=normal:variant=normal:weight=normal:stretch=normal:size=10.0\">M</text><rect x=\"1522.19828125\" y=\"255.0\" width=\"40\" height=\"40\" stroke=\"black\" fill=\"white\" stroke-width=\"1\" /><text x=\"1542.19828125\" y=\"275.0\" dominant-baseline=\"middle\" text-anchor=\"middle\" font-size=\"18px\" font-family=\"Arial:style=normal:variant=normal:weight=normal:stretch=normal:size=10.0\">M</text></svg>"
      ],
      "text/plain": [
       "<cirq.contrib.svg.svg.SVGCircuit at 0x7fdda79fcd10>"
      ]
     },
     "execution_count": 15,
     "metadata": {},
     "output_type": "execute_result"
    }
   ],
   "source": [
    "SVGCircuit(circuits_dict[\"z\"][0])"
   ]
  },
  {
   "cell_type": "markdown",
   "id": "3b639e79-1d16-42a5-b9d3-1c08788113d6",
   "metadata": {},
   "source": [
    "**Llevamos a cabo las mediciones.** La post-selection descarta las 1RDM cuya diagonal no sume N/2. Quité la corrección de errores por purificación de la 1RDM."
   ]
  },
  {
   "cell_type": "code",
   "execution_count": 16,
   "id": "610e75a4-fd6a-4507-b079-906d7e29602d",
   "metadata": {},
   "outputs": [],
   "source": [
    "def perform_measurments(qubits,permuted_indeces,circuits,circuits_dict):\n",
    "    # Diccionario con los resultados de las mediciones\n",
    "    post_selection = True\n",
    "    data_dict = {\n",
    "        'z': {},\n",
    "        'xy_even': {},\n",
    "        'xy_odd': {},\n",
    "        'qubits': [str(q) for q in qubits],\n",
    "        'qubit_permutations': permuted_indeces,\n",
    "        'circuits': circuits,\n",
    "        'circuits_with_measurement': circuits_dict\n",
    "    }\n",
    "    for measure_type in circuits_dict.keys():\n",
    "        circuits = circuits_dict[measure_type]\n",
    "        for circuit_index in circuits.keys():\n",
    "            circuit = circuits[circuit_index]\n",
    "            data = sampler.run(circuit, repetitions=num_samples)\n",
    "            if post_selection:\n",
    "                good_indices = np.where(np.sum(np.array(data.data), axis=1) == n_electrons/2)[0]\n",
    "                good_data = data.data[data.data.index.isin(good_indices)]\n",
    "                data_dict[measure_type][circuit_index] = good_data\n",
    "            else:\n",
    "                data_dict[measure_type][circuit_index] = data.data\n",
    "    return data_dict\n",
    "data_dict = perform_measurments(qubits,permuted_indeces,circuits,circuits_dict)"
   ]
  },
  {
   "cell_type": "markdown",
   "id": "cdc06589-8152-4b7d-83a4-76e98bd730e7",
   "metadata": {},
   "source": [
    "**Visualizamos el dataframe con las mediciones**\n",
    "\n",
    "data_dict es un diccionario de Pandas Dataframe con los resultados de las mediciones en la base computacional de los qubits tras ejecutar los circuitos Z, XY even y XY odd."
   ]
  },
  {
   "cell_type": "code",
   "execution_count": 17,
   "id": "cc7205d0-f68c-4fba-ace1-95b599e4501f",
   "metadata": {},
   "outputs": [
    {
     "data": {
      "text/html": [
       "<div>\n",
       "<style scoped>\n",
       "    .dataframe tbody tr th:only-of-type {\n",
       "        vertical-align: middle;\n",
       "    }\n",
       "\n",
       "    .dataframe tbody tr th {\n",
       "        vertical-align: top;\n",
       "    }\n",
       "\n",
       "    .dataframe thead th {\n",
       "        text-align: right;\n",
       "    }\n",
       "</style>\n",
       "<table border=\"1\" class=\"dataframe\">\n",
       "  <thead>\n",
       "    <tr style=\"text-align: right;\">\n",
       "      <th></th>\n",
       "      <th>q(0, 0)</th>\n",
       "      <th>q(0, 1)</th>\n",
       "      <th>q(0, 2)</th>\n",
       "      <th>q(0, 3)</th>\n",
       "      <th>q(0, 4)</th>\n",
       "      <th>q(0, 5)</th>\n",
       "    </tr>\n",
       "  </thead>\n",
       "  <tbody>\n",
       "    <tr>\n",
       "      <th>0</th>\n",
       "      <td>1</td>\n",
       "      <td>0</td>\n",
       "      <td>1</td>\n",
       "      <td>1</td>\n",
       "      <td>0</td>\n",
       "      <td>0</td>\n",
       "    </tr>\n",
       "    <tr>\n",
       "      <th>1</th>\n",
       "      <td>1</td>\n",
       "      <td>0</td>\n",
       "      <td>1</td>\n",
       "      <td>1</td>\n",
       "      <td>0</td>\n",
       "      <td>0</td>\n",
       "    </tr>\n",
       "    <tr>\n",
       "      <th>2</th>\n",
       "      <td>1</td>\n",
       "      <td>1</td>\n",
       "      <td>1</td>\n",
       "      <td>0</td>\n",
       "      <td>0</td>\n",
       "      <td>0</td>\n",
       "    </tr>\n",
       "    <tr>\n",
       "      <th>3</th>\n",
       "      <td>1</td>\n",
       "      <td>1</td>\n",
       "      <td>1</td>\n",
       "      <td>0</td>\n",
       "      <td>0</td>\n",
       "      <td>0</td>\n",
       "    </tr>\n",
       "    <tr>\n",
       "      <th>4</th>\n",
       "      <td>1</td>\n",
       "      <td>1</td>\n",
       "      <td>1</td>\n",
       "      <td>0</td>\n",
       "      <td>0</td>\n",
       "      <td>0</td>\n",
       "    </tr>\n",
       "    <tr>\n",
       "      <th>...</th>\n",
       "      <td>...</td>\n",
       "      <td>...</td>\n",
       "      <td>...</td>\n",
       "      <td>...</td>\n",
       "      <td>...</td>\n",
       "      <td>...</td>\n",
       "    </tr>\n",
       "    <tr>\n",
       "      <th>249995</th>\n",
       "      <td>1</td>\n",
       "      <td>1</td>\n",
       "      <td>1</td>\n",
       "      <td>0</td>\n",
       "      <td>0</td>\n",
       "      <td>0</td>\n",
       "    </tr>\n",
       "    <tr>\n",
       "      <th>249996</th>\n",
       "      <td>1</td>\n",
       "      <td>1</td>\n",
       "      <td>1</td>\n",
       "      <td>0</td>\n",
       "      <td>0</td>\n",
       "      <td>0</td>\n",
       "    </tr>\n",
       "    <tr>\n",
       "      <th>249997</th>\n",
       "      <td>1</td>\n",
       "      <td>1</td>\n",
       "      <td>1</td>\n",
       "      <td>0</td>\n",
       "      <td>0</td>\n",
       "      <td>0</td>\n",
       "    </tr>\n",
       "    <tr>\n",
       "      <th>249998</th>\n",
       "      <td>1</td>\n",
       "      <td>1</td>\n",
       "      <td>1</td>\n",
       "      <td>0</td>\n",
       "      <td>0</td>\n",
       "      <td>0</td>\n",
       "    </tr>\n",
       "    <tr>\n",
       "      <th>249999</th>\n",
       "      <td>1</td>\n",
       "      <td>1</td>\n",
       "      <td>1</td>\n",
       "      <td>0</td>\n",
       "      <td>0</td>\n",
       "      <td>0</td>\n",
       "    </tr>\n",
       "  </tbody>\n",
       "</table>\n",
       "<p>250000 rows × 6 columns</p>\n",
       "</div>"
      ],
      "text/plain": [
       "        q(0, 0)  q(0, 1)  q(0, 2)  q(0, 3)  q(0, 4)  q(0, 5)\n",
       "0             1        0        1        1        0        0\n",
       "1             1        0        1        1        0        0\n",
       "2             1        1        1        0        0        0\n",
       "3             1        1        1        0        0        0\n",
       "4             1        1        1        0        0        0\n",
       "...         ...      ...      ...      ...      ...      ...\n",
       "249995        1        1        1        0        0        0\n",
       "249996        1        1        1        0        0        0\n",
       "249997        1        1        1        0        0        0\n",
       "249998        1        1        1        0        0        0\n",
       "249999        1        1        1        0        0        0\n",
       "\n",
       "[250000 rows x 6 columns]"
      ]
     },
     "execution_count": 17,
     "metadata": {},
     "output_type": "execute_result"
    }
   ],
   "source": [
    "data_dict[\"z\"][0]"
   ]
  },
  {
   "cell_type": "markdown",
   "id": "3b71f5eb-5606-42e8-8b5d-73a09fc49569",
   "metadata": {},
   "source": [
    "**Construimos la OPDM a partir de las mediciones.**\n",
    "\n",
    "$$\\newcommand{\\bra}[1]{\\left\\langle{#1}\\right|}$$\n",
    "$$\\newcommand{\\ket}[1]{\\left|{#1}\\right\\rangle}$$\n",
    "$$\\newcommand{\\expval}[1]{\\left\\langle{#1}\\right\\rangle}$$\n",
    "\n",
    "- Para mediar la diagonal de la 1RDM\n",
    "\n",
    "$\\expval{a_i^\\dagger a_i} = \\frac{I - \\expval{Z_i}}{2} = \\expval{M_i}$\n",
    "\n",
    "- Para medir los elementos fuera de la diagonal de la 1RDM\n",
    "\n",
    "$\\expval{a_i^\\dagger a_{i+1} + a_{i+1}^\\dagger a_i} = \\frac{1}{2} (\\expval{X_i X_{i+1}} + \\expval{Y_i Y_{i+1}}) = 2R\\expval{a_i^\\dagger a_{i+1}}$\n",
    "\n",
    "con el cambio de base apropiado:\n",
    "\n",
    "$\\bra{U_m} a_i^\\dagger a_{i+1} + a_{i+1}^\\dagger a_i \\ket{U_m} = \\frac{1}{2} \\expval{Z_i - Z_{i+1}} = \\frac{1}{2} (M_{i+1} - M_{i})$"
   ]
  },
  {
   "cell_type": "code",
   "execution_count": 18,
   "id": "096b913e-3027-40a0-a8cd-0366882bb139",
   "metadata": {},
   "outputs": [],
   "source": [
    "def build_opdm(data_dict,n_qubits):\n",
    "\n",
    "    qubits_str = data_dict['qubits']\n",
    "    opdm = np.zeros((n_qubits, n_qubits))\n",
    "    variance_dict = {'xy_even': {}, 'xy_odd': {}, 'z': {}}\n",
    "\n",
    "    results_dict = data_dict\n",
    "    for circuit_idx, permutation in enumerate(results_dict['qubit_permutations']):\n",
    "        for pair_idx in range(n_qubits - 1):\n",
    "            if pair_idx % 2 == 0:\n",
    "                data = results_dict['xy_even'][circuit_idx]\n",
    "            else:\n",
    "                data = results_dict['xy_odd'][circuit_idx]\n",
    "            q0, q1 = qubits_str[pair_idx:pair_idx + 2]\n",
    "            qA, qB = permutation[pair_idx:pair_idx + 2]\n",
    "            # 1RDM: elementos fuera de la diagonal \\frac{1}{2} (M_{i+1} - M_{i})\n",
    "            opdm[qA, qB] += np.mean(data[q1] - data[q0], axis=0) * 0.5\n",
    "            opdm[qB, qA] += np.mean(data[q1] - data[q0], axis=0) * 0.5\n",
    "        \n",
    "        if circuit_idx == 0:  # No re-ordering\n",
    "            for qubit_idx, q in enumerate(qubits_str):\n",
    "                data = results_dict['z'][circuit_idx][q]\n",
    "                # 1RDM: elementos diagonales \\expval{a_i^\\dagger a_{i}} = M_{i}\n",
    "                opdm[qubit_idx, qubit_idx] = np.mean(data, axis=0)\n",
    "\n",
    "    return opdm\n",
    "    \n",
    "opdm = build_opdm(data_dict,n_qubits)"
   ]
  },
  {
   "cell_type": "markdown",
   "id": "93554a40-11a7-4cac-a207-220b08e4b006",
   "metadata": {},
   "source": [
    "**Reconstruimos la 2RDM a partir de la 1RDM**. Aquí se utiliza la reconstrucción de Hartree-Fock en orbitales de espín."
   ]
  },
  {
   "cell_type": "code",
   "execution_count": 19,
   "id": "faa2c382-3436-45c2-82eb-c0df03f0fb3e",
   "metadata": {},
   "outputs": [],
   "source": [
    "def build_spin_opdm_tpdm(opdm):\n",
    "    spin_opdm = np.kron(opdm, np.eye(2))\n",
    "    spin_tpdm = np.einsum(\"pi,qj->pqji\",spin_opdm,spin_opdm,optimize=True) - np.einsum(\"qi,pj->pqji\",spin_opdm,spin_opdm,optimize=True)\n",
    "    return spin_opdm, spin_tpdm\n",
    "spin_opdm, spin_tpdm = build_spin_opdm_tpdm(opdm)"
   ]
  },
  {
   "cell_type": "markdown",
   "id": "b7dddce1-4481-45cf-b0a0-243bf34d36f9",
   "metadata": {},
   "source": [
    "**Transformamos las integrales a orbital de espín**"
   ]
  },
  {
   "cell_type": "code",
   "execution_count": 20,
   "id": "ca42d1d7-4814-4064-8f09-a1714358c01b",
   "metadata": {},
   "outputs": [],
   "source": [
    "def spin_integrals(H_MO,I_MO):\n",
    "    obi = H_MO\n",
    "    tbi = I_MO\n",
    "    spin_obi = np.zeros((2*n_orbitals, 2*n_orbitals))\n",
    "    spin_tbi = np.zeros((2*n_orbitals, 2*n_orbitals, 2*n_orbitals, 2*n_orbitals))\n",
    "    # Loop through integrals.\n",
    "    for p in range(n_orbitals):\n",
    "        for q in range(n_orbitals):\n",
    "            # Populate 1-body coefficients. Require p and q have same spin.\n",
    "            spin_obi[2 * p, 2 * q] = obi[p, q]\n",
    "            spin_obi[2 * p + 1, 2 * q + 1] = obi[p, q]\n",
    "            # Continue looping to prepare 2-body coefficients.\n",
    "            for r in range(n_orbitals):\n",
    "                for s in range(n_orbitals):\n",
    "                    # Mixed spin\n",
    "                    spin_tbi[2 * p, 2 * q + 1, 2 * r + 1, 2 * s] = tbi[p, q, r, s] / 2.\n",
    "                    spin_tbi[2 * p + 1, 2 * q, 2 * r, 2 * s + 1] = tbi[p, q, r, s] / 2.\n",
    "                    # Same spin\n",
    "                    spin_tbi[2 * p, 2 * q, 2 * r, 2 * s] = tbi[p, q, r, s] / 2.\n",
    "                    spin_tbi[2 * p + 1, 2 * q + 1, 2 * r + 1, 2 * s + 1] = tbi[p, q, r, s] / 2.\n",
    "    return spin_obi, spin_tbi\n",
    "spin_obi, spin_tbi = spin_integrals(H_MO,I_MO)"
   ]
  },
  {
   "cell_type": "markdown",
   "id": "bb49494d-70dd-4920-9364-e052f32116f0",
   "metadata": {},
   "source": [
    "**Calculamos la energía**"
   ]
  },
  {
   "cell_type": "code",
   "execution_count": 21,
   "id": "b065e267-43c2-45f9-ad92-e7de9cf81792",
   "metadata": {},
   "outputs": [
    {
     "data": {
      "text/plain": [
       "-2.925434962461636"
      ]
     },
     "execution_count": 21,
     "metadata": {},
     "output_type": "execute_result"
    }
   ],
   "source": [
    "def Energy(Enuc, spin_obi, spin_tbi, spin_opdm, spin_tpdm):\n",
    "    E = Enuc\n",
    "    E += np.sum(spin_obi * spin_opdm)\n",
    "    E += np.sum(spin_tbi * spin_tpdm)\n",
    "    return E\n",
    "\n",
    "E = Energy(mol.energy_nuc(), spin_obi, spin_tbi, spin_opdm, spin_tpdm)\n",
    "E"
   ]
  },
  {
   "cell_type": "markdown",
   "id": "edb6362e-214b-4c34-8822-54d86b9836da",
   "metadata": {},
   "source": [
    "## HFVQE: Optimización de parámetros para minimizar de la energía"
   ]
  },
  {
   "cell_type": "markdown",
   "id": "d986b7f8-d686-444a-9791-d6be31a9e709",
   "metadata": {},
   "source": [
    "**Definimos funciones para el gradiente y el Hessiano**"
   ]
  },
  {
   "cell_type": "code",
   "execution_count": 22,
   "id": "6dff8424-5e4c-41d4-8792-24451ec1db54",
   "metadata": {},
   "outputs": [],
   "source": [
    "def rot_gen_HF():\n",
    "    # esta es una muy rebuscada forma de generar a_p^\\dagger a_q - a_q^\\dagger a_p\n",
    "    rotation_generators = []\n",
    "    for p in range(nocc * nvirt):\n",
    "        grad_params = np.zeros(rhf_objective.nocc * rhf_objective.nvirt)\n",
    "        grad_params[p] = 1\n",
    "\n",
    "        Y_spatial = np.zeros((n_orbitals, n_orbitals))\n",
    "        Y_spatial[nocc:,:nvirt] = grad_params.reshape(nocc,nvirt)\n",
    "        Y_spatial[:nocc,nvirt:] = -np.transpose(grad_params.reshape(nocc,nvirt))\n",
    "\n",
    "        p0 = np.array([[1, 0], [0, 1]])\n",
    "        Y_spin = np.kron(Y_spatial, p0)\n",
    "        rotation_generators.append(Y_spin)\n",
    "    return rotation_generators\n",
    "\n",
    "def derivatives1_HF(spin_obi, spin_opdm, spin_tbi, spin_tpdm, rotation_generators):\n",
    "    gradient = np.zeros(nocc * nvirt)\n",
    "    for idx,rot_gen_tensor in enumerate(rotation_generators):\n",
    "        Id = np.eye(2*n_orbitals)\n",
    "\n",
    "        commutator_expectation = 0\n",
    "        #   (  -1.00000) Id(i,q) cre(p) des(j)\n",
    "        commutator_expectation += -1.0 * np.einsum('ij,pq,iq,pj', spin_obi, rot_gen_tensor, Id, spin_opdm, optimize=True)\n",
    "        #   (   1.00000) Id(j,p) cre(i) des(q)\n",
    "        commutator_expectation +=  1.0 * np.einsum('ij,pq,jp,iq',  spin_obi, rot_gen_tensor, Id, spin_opdm, optimize=True)\n",
    "        #   (   1.00000) Id(i,q) cre(j) cre(p) des(k) des(l)\n",
    "        commutator_expectation +=  1.0 * np.einsum('ijkl,pq,iq,jpkl', spin_tbi, rot_gen_tensor, Id, spin_tpdm, optimize=True)\n",
    "        #   (  -1.00000) Id(j,q) cre(i) cre(p) des(k) des(l)\n",
    "        commutator_expectation += -1.0 * np.einsum('ijkl,pq,jq,ipkl', spin_tbi, rot_gen_tensor, Id, spin_tpdm, optimize=True)\n",
    "        #   (  -1.00000) Id(k,p) cre(i) cre(j) des(l) des(q)\n",
    "        commutator_expectation += -1.0 * np.einsum('ijkl,pq,kp,ijlq', spin_tbi, rot_gen_tensor, Id, spin_tpdm, optimize=True)\n",
    "        #   (   1.00000) Id(l,p) cre(i) cre(j) des(k) des(q)\n",
    "        commutator_expectation +=  1.0 * np.einsum('ijkl,pq,lp,ijkq', spin_tbi, rot_gen_tensor, Id, spin_tpdm, optimize=True)\n",
    "\n",
    "        gradient[idx] = commutator_expectation\n",
    "\n",
    "    return gradient\n",
    "\n",
    "def derivatives2_HF(spin_obi, spin_opdm, spin_tbi, spin_tpdm, rotation_generators):\n",
    "    hessian = np.zeros((nocc * nvirt,nocc * nvirt))\n",
    "    for (ridx,rgen_tensor),(lidx,sgen_tensor) in zip(enumerate(rotation_generators),enumerate(rotation_generators)):\n",
    "        Id = np.eye(2*n_orbitals)\n",
    "\n",
    "        commutator_expectation = 0\n",
    "        #   (  -1.00000) Id(i,q) Id(j,r) cre(p) des(s)\n",
    "        commutator_expectation += -1.0 * np.einsum('ij,pq,rs,iq,jr,ps', spin_obi, rgen_tensor, sgen_tensor, Id, Id, spin_opdm, optimize=True)\n",
    "        #   (   1.00000) Id(i,q) Id(p,s) cre(r) des(j)\n",
    "        commutator_expectation += 1.0 * np.einsum('ij,pq,rs,iq,ps,rj', spin_obi, rgen_tensor, sgen_tensor, Id, Id, spin_opdm, optimize=True)\n",
    "        #   (  -1.00000) Id(i,s) Id(j,p) cre(r) des(q)\n",
    "        commutator_expectation += -1.0 * np.einsum('ij,pq,rs,is,jp,rq', spin_obi, rgen_tensor, sgen_tensor, Id, Id, spin_opdm, optimize=True)\n",
    "        #   (   1.00000) Id(j,p) Id(q,r) cre(i) des(s)\n",
    "        commutator_expectation += 1.0 * np.einsum('ij,pq,rs,jp,qr,is', spin_obi, rgen_tensor, sgen_tensor, Id, Id, spin_opdm, optimize=True)\n",
    "\n",
    "        #   (   1.00000) Id(i,q) Id(j,s) cre(p) cre(r) des(k) des(l)\n",
    "        commutator_expectation += 1.0 * np.einsum('ijkl,pq,rs,iq,js,prkl', spin_tbi, rgen_tensor, sgen_tensor, Id, Id, spin_tpdm, optimize=True)\n",
    "        #   (  -1.00000) Id(i,q) Id(k,r) cre(j) cre(p) des(l) des(s)\n",
    "        commutator_expectation += -1.0 * np.einsum('ijkl,pq,rs,iq,kr,jpls', spin_tbi, rgen_tensor, sgen_tensor, Id, Id, spin_tpdm, optimize=True)\n",
    "        #   (   1.00000) Id(i,q) Id(l,r) cre(j) cre(p) des(k) des(s)\n",
    "        commutator_expectation += 1.0 * np.einsum('ijkl,pq,rs,iq,lr,jpks', spin_tbi, rgen_tensor, sgen_tensor, Id, Id, spin_tpdm, optimize=True)\n",
    "        #   (  -1.00000) Id(i,q) Id(p,s) cre(j) cre(r) des(k) des(l)\n",
    "        commutator_expectation += -1.0 * np.einsum('ijkl,pq,rs,iq,ps,jrkl', spin_tbi, rgen_tensor, sgen_tensor, Id, Id, spin_tpdm, optimize=True)\n",
    "        #   (  -1.00000) Id(i,s) Id(j,q) cre(p) cre(r) des(k) des(l)\n",
    "        commutator_expectation += -1.0 * np.einsum('ijkl,pq,rs,is,jq,prkl', spin_tbi, rgen_tensor, sgen_tensor, Id, Id, spin_tpdm, optimize=True)\n",
    "        #   (  -1.00000) Id(i,s) Id(k,p) cre(j) cre(r) des(l) des(q)\n",
    "        commutator_expectation += -1.0 * np.einsum('ijkl,pq,rs,is,kp,jrlq', spin_tbi, rgen_tensor, sgen_tensor, Id, Id, spin_tpdm, optimize=True)\n",
    "        #   (   1.00000) Id(i,s) Id(l,p) cre(j) cre(r) des(k) des(q)\n",
    "        commutator_expectation += 1.0 * np.einsum('ijkl,pq,rs,is,lp,jrkq', spin_tbi, rgen_tensor, sgen_tensor, Id, Id, spin_tpdm, optimize=True)\n",
    "        #   (   1.00000) Id(j,q) Id(k,r) cre(i) cre(p) des(l) des(s)\n",
    "        commutator_expectation += 1.0 * np.einsum('ijkl,pq,rs,jq,kr,ipls', spin_tbi, rgen_tensor, sgen_tensor, Id, Id, spin_tpdm, optimize=True)\n",
    "        #   (  -1.00000) Id(j,q) Id(l,r) cre(i) cre(p) des(k) des(s)\n",
    "        commutator_expectation += -1.0 * np.einsum('ijkl,pq,rs,jq,lr,ipks', spin_tbi, rgen_tensor, sgen_tensor, Id, Id, spin_tpdm, optimize=True)\n",
    "        #   (   1.00000) Id(j,q) Id(p,s) cre(i) cre(r) des(k) des(l)\n",
    "        commutator_expectation += 1.0 * np.einsum('ijkl,pq,rs,jq,ps,irkl', spin_tbi, rgen_tensor, sgen_tensor, Id, Id, spin_tpdm, optimize=True)\n",
    "        #   (   1.00000) Id(j,s) Id(k,p) cre(i) cre(r) des(l) des(q)\n",
    "        commutator_expectation += 1.0 * np.einsum('ijkl,pq,rs,js,kp,irlq', spin_tbi, rgen_tensor, sgen_tensor, Id, Id, spin_tpdm, optimize=True)\n",
    "        #   (  -1.00000) Id(j,s) Id(l,p) cre(i) cre(r) des(k) des(q)\n",
    "        commutator_expectation += -1.0 * np.einsum('ijkl,pq,rs,js,lp,irkq', spin_tbi, rgen_tensor, sgen_tensor, Id, Id, spin_tpdm, optimize=True)\n",
    "        #   (   1.00000) Id(k,p) Id(l,r) cre(i) cre(j) des(q) des(s)\n",
    "        commutator_expectation += 1.0 * np.einsum('ijkl,pq,rs,kp,lr,ijqs', spin_tbi, rgen_tensor, sgen_tensor, Id, Id, spin_tpdm, optimize=True)\n",
    "        #   (  -1.00000) Id(k,p) Id(q,r) cre(i) cre(j) des(l) des(s)\n",
    "        commutator_expectation += -1.0 * np.einsum('ijkl,pq,rs,kp,qr,ijls', spin_tbi, rgen_tensor, sgen_tensor, Id, Id, spin_tpdm, optimize=True)\n",
    "        #   (  -1.00000) Id(k,r) Id(l,p) cre(i) cre(j) des(q) des(s)\n",
    "        commutator_expectation += -1.0 * np.einsum('ijkl,pq,rs,kr,lp,ijqs', spin_tbi, rgen_tensor, sgen_tensor, Id, Id, spin_tpdm, optimize=True)\n",
    "        #   (   1.00000) Id(l,p) Id(q,r) cre(i) cre(j) des(k) des(s)\n",
    "        commutator_expectation += 1.0 * np.einsum('ijkl,pq,rs,lp,qr,ijks', spin_tbi, rgen_tensor, sgen_tensor, Id, Id, spin_tpdm, optimize=True)\n",
    "        hessian[ridx,lidx] = commutator_expectation\n",
    "\n",
    "    return hessian"
   ]
  },
  {
   "cell_type": "markdown",
   "id": "b01e79c6-1702-4df1-bd5c-1198f813233b",
   "metadata": {},
   "source": [
    "**Parámetros para controlar el minimizador**"
   ]
  },
  {
   "cell_type": "code",
   "execution_count": 23,
   "id": "73d217d4-d92d-4512-9ada-98f36170a163",
   "metadata": {},
   "outputs": [],
   "source": [
    "delta = 0.3\n",
    "rtol = 0.5E-2\n",
    "max_iter = 20"
   ]
  },
  {
   "cell_type": "markdown",
   "id": "e0288e54-8730-4c7f-b838-5c6f176cca40",
   "metadata": {},
   "source": [
    "**Minimizamos con augmented Hessian.** Podemos usar cualquier minimizador, pero estoy aprovechando el código de Google."
   ]
  },
  {
   "cell_type": "code",
   "execution_count": 24,
   "id": "488df61b-51e6-424c-b208-512689ca2063",
   "metadata": {},
   "outputs": [
    {
     "name": "stdout",
     "output_type": "stream",
     "text": [
      "Iter: 0 Energy: -2.8256\n",
      "Iter: 1 Energy: -2.9090\n",
      "Iter: 2 Energy: -2.9201\n",
      "Iter: 3 Energy: -2.9216\n",
      "Iter: 4 Energy: -2.9227\n",
      "Iter: 5 Energy: -2.9239\n"
     ]
    }
   ],
   "source": [
    "permutations, permuted_indeces = generate_permutations()\n",
    "fr_vals = parameters + 1.0E-1 #movemos un poco los parámetros óptimos\n",
    "current_unitary = np.eye(nocc + nvirt)\n",
    "\n",
    "energies = []\n",
    "current_count = 0\n",
    "while current_count < max_iter:\n",
    "\n",
    "    # Actializa la matriz unitaria\n",
    "    U_new = create_U(fr_vals) @ current_unitary\n",
    "\n",
    "    # Genera circuitos de medición\n",
    "    permuted_matrices = generate_permuted_matrices(permutations, U_new)\n",
    "    circuits = generate_permuted_circuits(permuted_matrices, qubits)\n",
    "    circuits_dict = generate_measurment_circuits(qubits, circuits)\n",
    "\n",
    "    # Mide y construye la 1RDM\n",
    "    data_dict = perform_measurments(qubits,permuted_indeces, circuits, circuits_dict)\n",
    "    opdm = build_opdm(data_dict, n_qubits)\n",
    "\n",
    "    # Calcula energía a partir de la 1RDM\n",
    "    spin_opdm, spin_tpdm = build_spin_opdm_tpdm(opdm)\n",
    "    E = Energy(mol.energy_nuc(), spin_obi, spin_tbi, spin_opdm, spin_tpdm)\n",
    "    energies.append(E)\n",
    "    print(\"Iter: {} Energy: {:7.4f}\".format(current_count, E))\n",
    "\n",
    "    # Derivadas y gradiente\n",
    "    rotation_generators = rot_gen_HF()\n",
    "    gradient = derivatives1_HF(spin_obi, spin_opdm, spin_tbi, spin_tpdm, rotation_generators)\n",
    "    hessian = derivatives2_HF(spin_obi, spin_opdm, spin_tbi, spin_tpdm, rotation_generators)\n",
    "\n",
    "    # build augmented Hessian\n",
    "    gradient = gradient.reshape((-1, 1))\n",
    "    aug_hess = np.hstack((np.array([[0]]), gradient.conj().T))\n",
    "    aug_hess = np.vstack((aug_hess, np.hstack((gradient, hessian))))\n",
    "\n",
    "    w, v = np.linalg.eig(aug_hess)\n",
    "    sort_idx = np.argsort(w)\n",
    "    w = w[sort_idx]\n",
    "    v = v[:, sort_idx]\n",
    "    new_fr_vals = v[1:, [0]].flatten() / v[0, 0]\n",
    "    \n",
    "    if np.max(abs(new_fr_vals)) >= delta:\n",
    "        new_fr_vals = delta * new_fr_vals / np.max(abs(new_fr_vals))\n",
    "\n",
    "    if np.linalg.norm(new_fr_vals) < rtol:\n",
    "        break\n",
    "    \n",
    "    # assign new values to the things being evaluated next iteration\n",
    "    fr_vals = new_fr_vals.copy()\n",
    "    current_unitary = U_new.copy()\n",
    "\n",
    "    current_count += 1 "
   ]
  },
  {
   "cell_type": "markdown",
   "id": "eb47c19d-ebe8-4343-9c5a-c740c5ca0773",
   "metadata": {},
   "source": [
    "**Graficamos**"
   ]
  },
  {
   "cell_type": "code",
   "execution_count": 25,
   "id": "ae35d4a6-4061-4849-8ae5-c5ce89281930",
   "metadata": {},
   "outputs": [
    {
     "data": {
      "image/png": "[encoded data removed]",
      "text/plain": [
       "<Figure size 640x480 with 1 Axes>"
      ]
     },
     "metadata": {},
     "output_type": "display_data"
    }
   ],
   "source": [
    "import matplotlib.pyplot as plt\n",
    "\n",
    "plt.plot(range(len(energies)), energies)\n",
    "plt.scatter(range(len(energies)), energies)\n",
    "\n",
    "plt.xlabel(\"Iterations\")\n",
    "plt.ylabel(\"E (Ha)\")\n",
    "\n",
    "plt.show()"
   ]
  }
 ],
 "metadata": {
  "kernelspec": {
   "display_name": "Python 3 (ipykernel)",
   "language": "python",
   "name": "python3"
  },
  "language_info": {
   "codemirror_mode": {
    "name": "ipython",
    "version": 3
   },
   "file_extension": ".py",
   "mimetype": "text/x-python",
   "name": "python",
   "nbconvert_exporter": "python",
   "pygments_lexer": "ipython3",
   "version": "3.12.2"
  }
 },
 "nbformat": 4,
 "nbformat_minor": 5
}
